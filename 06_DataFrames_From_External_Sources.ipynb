{
  "nbformat": 4,
  "nbformat_minor": 0,
  "metadata": {
    "colab": {
      "provenance": [],
      "authorship_tag": "ABX9TyPQHcCgcXm10soWGATymDDr",
      "include_colab_link": true
    },
    "kernelspec": {
      "name": "python3",
      "display_name": "Python 3"
    },
    "language_info": {
      "name": "python"
    }
  },
  "cells": [
    {
      "cell_type": "markdown",
      "metadata": {
        "id": "view-in-github",
        "colab_type": "text"
      },
      "source": [
        "<a href=\"https://colab.research.google.com/github/sanjeevan-nxtworx/Pandas/blob/main/06_DataFrames_From_External_Sources.ipynb\" target=\"_parent\"><img src=\"https://colab.research.google.com/assets/colab-badge.svg\" alt=\"Open In Colab\"/></a>"
      ]
    },
    {
      "cell_type": "markdown",
      "source": [
        "###**Creating Data Frames from External Sources**"
      ],
      "metadata": {
        "id": "UKB2C17Z1_4g"
      }
    },
    {
      "cell_type": "code",
      "source": [
        "import pandas as pd\n",
        "from matplotlib import pyplot as plt\n",
        "import seaborn as sns\n"
      ],
      "metadata": {
        "id": "Nr6SPnSs4PU-"
      },
      "execution_count": 10,
      "outputs": []
    },
    {
      "cell_type": "markdown",
      "source": [
        "###Reading From CSV"
      ],
      "metadata": {
        "id": "T8GkQ6ID2Il0"
      }
    },
    {
      "cell_type": "code",
      "source": [
        "df = pd.read_csv(\"googl_data_2020_2025.csv\")"
      ],
      "metadata": {
        "id": "3NPUKVY32GPA"
      },
      "execution_count": 5,
      "outputs": []
    },
    {
      "cell_type": "code",
      "source": [
        "df"
      ],
      "metadata": {
        "colab": {
          "base_uri": "https://localhost:8080/",
          "height": 423
        },
        "id": "DbDakSUP4HXb",
        "outputId": "1edbcb85-2d55-4eb0-ac11-3a0d01388ecb"
      },
      "execution_count": 6,
      "outputs": [
        {
          "output_type": "execute_result",
          "data": {
            "text/plain": [
              "                           Date   Adj Close       Close        High  \\\n",
              "0     2020-01-02 00:00:00+00:00   68.186821   68.433998   68.433998   \n",
              "1     2020-01-03 00:00:00+00:00   67.830101   68.075996   68.687500   \n",
              "2     2020-01-06 00:00:00+00:00   69.638054   69.890503   69.916000   \n",
              "3     2020-01-07 00:00:00+00:00   69.503548   69.755501   70.175003   \n",
              "4     2020-01-08 00:00:00+00:00   69.998253   70.251999   70.592499   \n",
              "...                         ...         ...         ...         ...   \n",
              "1253  2024-12-24 00:00:00+00:00  196.110001  196.110001  196.110001   \n",
              "1254  2024-12-26 00:00:00+00:00  195.600006  195.600006  196.750000   \n",
              "1255  2024-12-27 00:00:00+00:00  192.759995  192.759995  195.320007   \n",
              "1256  2024-12-30 00:00:00+00:00  191.240005  191.240005  192.550003   \n",
              "1257  2024-12-31 00:00:00+00:00  189.300003  189.300003  191.960007   \n",
              "\n",
              "             Low        Open    Volume  \n",
              "0      67.324501   67.420502  27278000  \n",
              "1      67.365997   67.400002  23408000  \n",
              "2      67.550003   67.581497  46768000  \n",
              "3      69.578003   70.023003  34330000  \n",
              "4      69.631500   69.740997  35314000  \n",
              "...          ...         ...       ...  \n",
              "1253  193.779999  194.839996  10403300  \n",
              "1254  194.380005  195.149994  12046600  \n",
              "1255  190.649994  194.949997  18891400  \n",
              "1256  189.119995  189.800003  14264700  \n",
              "1257  188.509995  191.080002  17466900  \n",
              "\n",
              "[1258 rows x 7 columns]"
            ],
            "text/html": [
              "\n",
              "  <div id=\"df-886906e0-5523-4ecd-8e23-1ffd69076beb\" class=\"colab-df-container\">\n",
              "    <div>\n",
              "<style scoped>\n",
              "    .dataframe tbody tr th:only-of-type {\n",
              "        vertical-align: middle;\n",
              "    }\n",
              "\n",
              "    .dataframe tbody tr th {\n",
              "        vertical-align: top;\n",
              "    }\n",
              "\n",
              "    .dataframe thead th {\n",
              "        text-align: right;\n",
              "    }\n",
              "</style>\n",
              "<table border=\"1\" class=\"dataframe\">\n",
              "  <thead>\n",
              "    <tr style=\"text-align: right;\">\n",
              "      <th></th>\n",
              "      <th>Date</th>\n",
              "      <th>Adj Close</th>\n",
              "      <th>Close</th>\n",
              "      <th>High</th>\n",
              "      <th>Low</th>\n",
              "      <th>Open</th>\n",
              "      <th>Volume</th>\n",
              "    </tr>\n",
              "  </thead>\n",
              "  <tbody>\n",
              "    <tr>\n",
              "      <th>0</th>\n",
              "      <td>2020-01-02 00:00:00+00:00</td>\n",
              "      <td>68.186821</td>\n",
              "      <td>68.433998</td>\n",
              "      <td>68.433998</td>\n",
              "      <td>67.324501</td>\n",
              "      <td>67.420502</td>\n",
              "      <td>27278000</td>\n",
              "    </tr>\n",
              "    <tr>\n",
              "      <th>1</th>\n",
              "      <td>2020-01-03 00:00:00+00:00</td>\n",
              "      <td>67.830101</td>\n",
              "      <td>68.075996</td>\n",
              "      <td>68.687500</td>\n",
              "      <td>67.365997</td>\n",
              "      <td>67.400002</td>\n",
              "      <td>23408000</td>\n",
              "    </tr>\n",
              "    <tr>\n",
              "      <th>2</th>\n",
              "      <td>2020-01-06 00:00:00+00:00</td>\n",
              "      <td>69.638054</td>\n",
              "      <td>69.890503</td>\n",
              "      <td>69.916000</td>\n",
              "      <td>67.550003</td>\n",
              "      <td>67.581497</td>\n",
              "      <td>46768000</td>\n",
              "    </tr>\n",
              "    <tr>\n",
              "      <th>3</th>\n",
              "      <td>2020-01-07 00:00:00+00:00</td>\n",
              "      <td>69.503548</td>\n",
              "      <td>69.755501</td>\n",
              "      <td>70.175003</td>\n",
              "      <td>69.578003</td>\n",
              "      <td>70.023003</td>\n",
              "      <td>34330000</td>\n",
              "    </tr>\n",
              "    <tr>\n",
              "      <th>4</th>\n",
              "      <td>2020-01-08 00:00:00+00:00</td>\n",
              "      <td>69.998253</td>\n",
              "      <td>70.251999</td>\n",
              "      <td>70.592499</td>\n",
              "      <td>69.631500</td>\n",
              "      <td>69.740997</td>\n",
              "      <td>35314000</td>\n",
              "    </tr>\n",
              "    <tr>\n",
              "      <th>...</th>\n",
              "      <td>...</td>\n",
              "      <td>...</td>\n",
              "      <td>...</td>\n",
              "      <td>...</td>\n",
              "      <td>...</td>\n",
              "      <td>...</td>\n",
              "      <td>...</td>\n",
              "    </tr>\n",
              "    <tr>\n",
              "      <th>1253</th>\n",
              "      <td>2024-12-24 00:00:00+00:00</td>\n",
              "      <td>196.110001</td>\n",
              "      <td>196.110001</td>\n",
              "      <td>196.110001</td>\n",
              "      <td>193.779999</td>\n",
              "      <td>194.839996</td>\n",
              "      <td>10403300</td>\n",
              "    </tr>\n",
              "    <tr>\n",
              "      <th>1254</th>\n",
              "      <td>2024-12-26 00:00:00+00:00</td>\n",
              "      <td>195.600006</td>\n",
              "      <td>195.600006</td>\n",
              "      <td>196.750000</td>\n",
              "      <td>194.380005</td>\n",
              "      <td>195.149994</td>\n",
              "      <td>12046600</td>\n",
              "    </tr>\n",
              "    <tr>\n",
              "      <th>1255</th>\n",
              "      <td>2024-12-27 00:00:00+00:00</td>\n",
              "      <td>192.759995</td>\n",
              "      <td>192.759995</td>\n",
              "      <td>195.320007</td>\n",
              "      <td>190.649994</td>\n",
              "      <td>194.949997</td>\n",
              "      <td>18891400</td>\n",
              "    </tr>\n",
              "    <tr>\n",
              "      <th>1256</th>\n",
              "      <td>2024-12-30 00:00:00+00:00</td>\n",
              "      <td>191.240005</td>\n",
              "      <td>191.240005</td>\n",
              "      <td>192.550003</td>\n",
              "      <td>189.119995</td>\n",
              "      <td>189.800003</td>\n",
              "      <td>14264700</td>\n",
              "    </tr>\n",
              "    <tr>\n",
              "      <th>1257</th>\n",
              "      <td>2024-12-31 00:00:00+00:00</td>\n",
              "      <td>189.300003</td>\n",
              "      <td>189.300003</td>\n",
              "      <td>191.960007</td>\n",
              "      <td>188.509995</td>\n",
              "      <td>191.080002</td>\n",
              "      <td>17466900</td>\n",
              "    </tr>\n",
              "  </tbody>\n",
              "</table>\n",
              "<p>1258 rows × 7 columns</p>\n",
              "</div>\n",
              "    <div class=\"colab-df-buttons\">\n",
              "\n",
              "  <div class=\"colab-df-container\">\n",
              "    <button class=\"colab-df-convert\" onclick=\"convertToInteractive('df-886906e0-5523-4ecd-8e23-1ffd69076beb')\"\n",
              "            title=\"Convert this dataframe to an interactive table.\"\n",
              "            style=\"display:none;\">\n",
              "\n",
              "  <svg xmlns=\"http://www.w3.org/2000/svg\" height=\"24px\" viewBox=\"0 -960 960 960\">\n",
              "    <path d=\"M120-120v-720h720v720H120Zm60-500h600v-160H180v160Zm220 220h160v-160H400v160Zm0 220h160v-160H400v160ZM180-400h160v-160H180v160Zm440 0h160v-160H620v160ZM180-180h160v-160H180v160Zm440 0h160v-160H620v160Z\"/>\n",
              "  </svg>\n",
              "    </button>\n",
              "\n",
              "  <style>\n",
              "    .colab-df-container {\n",
              "      display:flex;\n",
              "      gap: 12px;\n",
              "    }\n",
              "\n",
              "    .colab-df-convert {\n",
              "      background-color: #E8F0FE;\n",
              "      border: none;\n",
              "      border-radius: 50%;\n",
              "      cursor: pointer;\n",
              "      display: none;\n",
              "      fill: #1967D2;\n",
              "      height: 32px;\n",
              "      padding: 0 0 0 0;\n",
              "      width: 32px;\n",
              "    }\n",
              "\n",
              "    .colab-df-convert:hover {\n",
              "      background-color: #E2EBFA;\n",
              "      box-shadow: 0px 1px 2px rgba(60, 64, 67, 0.3), 0px 1px 3px 1px rgba(60, 64, 67, 0.15);\n",
              "      fill: #174EA6;\n",
              "    }\n",
              "\n",
              "    .colab-df-buttons div {\n",
              "      margin-bottom: 4px;\n",
              "    }\n",
              "\n",
              "    [theme=dark] .colab-df-convert {\n",
              "      background-color: #3B4455;\n",
              "      fill: #D2E3FC;\n",
              "    }\n",
              "\n",
              "    [theme=dark] .colab-df-convert:hover {\n",
              "      background-color: #434B5C;\n",
              "      box-shadow: 0px 1px 3px 1px rgba(0, 0, 0, 0.15);\n",
              "      filter: drop-shadow(0px 1px 2px rgba(0, 0, 0, 0.3));\n",
              "      fill: #FFFFFF;\n",
              "    }\n",
              "  </style>\n",
              "\n",
              "    <script>\n",
              "      const buttonEl =\n",
              "        document.querySelector('#df-886906e0-5523-4ecd-8e23-1ffd69076beb button.colab-df-convert');\n",
              "      buttonEl.style.display =\n",
              "        google.colab.kernel.accessAllowed ? 'block' : 'none';\n",
              "\n",
              "      async function convertToInteractive(key) {\n",
              "        const element = document.querySelector('#df-886906e0-5523-4ecd-8e23-1ffd69076beb');\n",
              "        const dataTable =\n",
              "          await google.colab.kernel.invokeFunction('convertToInteractive',\n",
              "                                                    [key], {});\n",
              "        if (!dataTable) return;\n",
              "\n",
              "        const docLinkHtml = 'Like what you see? Visit the ' +\n",
              "          '<a target=\"_blank\" href=https://colab.research.google.com/notebooks/data_table.ipynb>data table notebook</a>'\n",
              "          + ' to learn more about interactive tables.';\n",
              "        element.innerHTML = '';\n",
              "        dataTable['output_type'] = 'display_data';\n",
              "        await google.colab.output.renderOutput(dataTable, element);\n",
              "        const docLink = document.createElement('div');\n",
              "        docLink.innerHTML = docLinkHtml;\n",
              "        element.appendChild(docLink);\n",
              "      }\n",
              "    </script>\n",
              "  </div>\n",
              "\n",
              "\n",
              "<div id=\"df-61d2908f-e782-4ad2-833f-067301c5a4e2\">\n",
              "  <button class=\"colab-df-quickchart\" onclick=\"quickchart('df-61d2908f-e782-4ad2-833f-067301c5a4e2')\"\n",
              "            title=\"Suggest charts\"\n",
              "            style=\"display:none;\">\n",
              "\n",
              "<svg xmlns=\"http://www.w3.org/2000/svg\" height=\"24px\"viewBox=\"0 0 24 24\"\n",
              "     width=\"24px\">\n",
              "    <g>\n",
              "        <path d=\"M19 3H5c-1.1 0-2 .9-2 2v14c0 1.1.9 2 2 2h14c1.1 0 2-.9 2-2V5c0-1.1-.9-2-2-2zM9 17H7v-7h2v7zm4 0h-2V7h2v10zm4 0h-2v-4h2v4z\"/>\n",
              "    </g>\n",
              "</svg>\n",
              "  </button>\n",
              "\n",
              "<style>\n",
              "  .colab-df-quickchart {\n",
              "      --bg-color: #E8F0FE;\n",
              "      --fill-color: #1967D2;\n",
              "      --hover-bg-color: #E2EBFA;\n",
              "      --hover-fill-color: #174EA6;\n",
              "      --disabled-fill-color: #AAA;\n",
              "      --disabled-bg-color: #DDD;\n",
              "  }\n",
              "\n",
              "  [theme=dark] .colab-df-quickchart {\n",
              "      --bg-color: #3B4455;\n",
              "      --fill-color: #D2E3FC;\n",
              "      --hover-bg-color: #434B5C;\n",
              "      --hover-fill-color: #FFFFFF;\n",
              "      --disabled-bg-color: #3B4455;\n",
              "      --disabled-fill-color: #666;\n",
              "  }\n",
              "\n",
              "  .colab-df-quickchart {\n",
              "    background-color: var(--bg-color);\n",
              "    border: none;\n",
              "    border-radius: 50%;\n",
              "    cursor: pointer;\n",
              "    display: none;\n",
              "    fill: var(--fill-color);\n",
              "    height: 32px;\n",
              "    padding: 0;\n",
              "    width: 32px;\n",
              "  }\n",
              "\n",
              "  .colab-df-quickchart:hover {\n",
              "    background-color: var(--hover-bg-color);\n",
              "    box-shadow: 0 1px 2px rgba(60, 64, 67, 0.3), 0 1px 3px 1px rgba(60, 64, 67, 0.15);\n",
              "    fill: var(--button-hover-fill-color);\n",
              "  }\n",
              "\n",
              "  .colab-df-quickchart-complete:disabled,\n",
              "  .colab-df-quickchart-complete:disabled:hover {\n",
              "    background-color: var(--disabled-bg-color);\n",
              "    fill: var(--disabled-fill-color);\n",
              "    box-shadow: none;\n",
              "  }\n",
              "\n",
              "  .colab-df-spinner {\n",
              "    border: 2px solid var(--fill-color);\n",
              "    border-color: transparent;\n",
              "    border-bottom-color: var(--fill-color);\n",
              "    animation:\n",
              "      spin 1s steps(1) infinite;\n",
              "  }\n",
              "\n",
              "  @keyframes spin {\n",
              "    0% {\n",
              "      border-color: transparent;\n",
              "      border-bottom-color: var(--fill-color);\n",
              "      border-left-color: var(--fill-color);\n",
              "    }\n",
              "    20% {\n",
              "      border-color: transparent;\n",
              "      border-left-color: var(--fill-color);\n",
              "      border-top-color: var(--fill-color);\n",
              "    }\n",
              "    30% {\n",
              "      border-color: transparent;\n",
              "      border-left-color: var(--fill-color);\n",
              "      border-top-color: var(--fill-color);\n",
              "      border-right-color: var(--fill-color);\n",
              "    }\n",
              "    40% {\n",
              "      border-color: transparent;\n",
              "      border-right-color: var(--fill-color);\n",
              "      border-top-color: var(--fill-color);\n",
              "    }\n",
              "    60% {\n",
              "      border-color: transparent;\n",
              "      border-right-color: var(--fill-color);\n",
              "    }\n",
              "    80% {\n",
              "      border-color: transparent;\n",
              "      border-right-color: var(--fill-color);\n",
              "      border-bottom-color: var(--fill-color);\n",
              "    }\n",
              "    90% {\n",
              "      border-color: transparent;\n",
              "      border-bottom-color: var(--fill-color);\n",
              "    }\n",
              "  }\n",
              "</style>\n",
              "\n",
              "  <script>\n",
              "    async function quickchart(key) {\n",
              "      const quickchartButtonEl =\n",
              "        document.querySelector('#' + key + ' button');\n",
              "      quickchartButtonEl.disabled = true;  // To prevent multiple clicks.\n",
              "      quickchartButtonEl.classList.add('colab-df-spinner');\n",
              "      try {\n",
              "        const charts = await google.colab.kernel.invokeFunction(\n",
              "            'suggestCharts', [key], {});\n",
              "      } catch (error) {\n",
              "        console.error('Error during call to suggestCharts:', error);\n",
              "      }\n",
              "      quickchartButtonEl.classList.remove('colab-df-spinner');\n",
              "      quickchartButtonEl.classList.add('colab-df-quickchart-complete');\n",
              "    }\n",
              "    (() => {\n",
              "      let quickchartButtonEl =\n",
              "        document.querySelector('#df-61d2908f-e782-4ad2-833f-067301c5a4e2 button');\n",
              "      quickchartButtonEl.style.display =\n",
              "        google.colab.kernel.accessAllowed ? 'block' : 'none';\n",
              "    })();\n",
              "  </script>\n",
              "</div>\n",
              "\n",
              "  <div id=\"id_f48fbcd9-c39e-4d50-a19f-7fa65f4f75ce\">\n",
              "    <style>\n",
              "      .colab-df-generate {\n",
              "        background-color: #E8F0FE;\n",
              "        border: none;\n",
              "        border-radius: 50%;\n",
              "        cursor: pointer;\n",
              "        display: none;\n",
              "        fill: #1967D2;\n",
              "        height: 32px;\n",
              "        padding: 0 0 0 0;\n",
              "        width: 32px;\n",
              "      }\n",
              "\n",
              "      .colab-df-generate:hover {\n",
              "        background-color: #E2EBFA;\n",
              "        box-shadow: 0px 1px 2px rgba(60, 64, 67, 0.3), 0px 1px 3px 1px rgba(60, 64, 67, 0.15);\n",
              "        fill: #174EA6;\n",
              "      }\n",
              "\n",
              "      [theme=dark] .colab-df-generate {\n",
              "        background-color: #3B4455;\n",
              "        fill: #D2E3FC;\n",
              "      }\n",
              "\n",
              "      [theme=dark] .colab-df-generate:hover {\n",
              "        background-color: #434B5C;\n",
              "        box-shadow: 0px 1px 3px 1px rgba(0, 0, 0, 0.15);\n",
              "        filter: drop-shadow(0px 1px 2px rgba(0, 0, 0, 0.3));\n",
              "        fill: #FFFFFF;\n",
              "      }\n",
              "    </style>\n",
              "    <button class=\"colab-df-generate\" onclick=\"generateWithVariable('df')\"\n",
              "            title=\"Generate code using this dataframe.\"\n",
              "            style=\"display:none;\">\n",
              "\n",
              "  <svg xmlns=\"http://www.w3.org/2000/svg\" height=\"24px\"viewBox=\"0 0 24 24\"\n",
              "       width=\"24px\">\n",
              "    <path d=\"M7,19H8.4L18.45,9,17,7.55,7,17.6ZM5,21V16.75L18.45,3.32a2,2,0,0,1,2.83,0l1.4,1.43a1.91,1.91,0,0,1,.58,1.4,1.91,1.91,0,0,1-.58,1.4L9.25,21ZM18.45,9,17,7.55Zm-12,3A5.31,5.31,0,0,0,4.9,8.1,5.31,5.31,0,0,0,1,6.5,5.31,5.31,0,0,0,4.9,4.9,5.31,5.31,0,0,0,6.5,1,5.31,5.31,0,0,0,8.1,4.9,5.31,5.31,0,0,0,12,6.5,5.46,5.46,0,0,0,6.5,12Z\"/>\n",
              "  </svg>\n",
              "    </button>\n",
              "    <script>\n",
              "      (() => {\n",
              "      const buttonEl =\n",
              "        document.querySelector('#id_f48fbcd9-c39e-4d50-a19f-7fa65f4f75ce button.colab-df-generate');\n",
              "      buttonEl.style.display =\n",
              "        google.colab.kernel.accessAllowed ? 'block' : 'none';\n",
              "\n",
              "      buttonEl.onclick = () => {\n",
              "        google.colab.notebook.generateWithVariable('df');\n",
              "      }\n",
              "      })();\n",
              "    </script>\n",
              "  </div>\n",
              "\n",
              "    </div>\n",
              "  </div>\n"
            ],
            "application/vnd.google.colaboratory.intrinsic+json": {
              "type": "dataframe",
              "variable_name": "df",
              "summary": "{\n  \"name\": \"df\",\n  \"rows\": 1258,\n  \"fields\": [\n    {\n      \"column\": \"Date\",\n      \"properties\": {\n        \"dtype\": \"object\",\n        \"num_unique_values\": 1258,\n        \"samples\": [\n          \"2022-03-24 00:00:00+00:00\",\n          \"2020-05-28 00:00:00+00:00\",\n          \"2020-03-17 00:00:00+00:00\"\n        ],\n        \"semantic_type\": \"\",\n        \"description\": \"\"\n      }\n    },\n    {\n      \"column\": \"Adj Close\",\n      \"properties\": {\n        \"dtype\": \"number\",\n        \"std\": 32.403070986778665,\n        \"min\": 52.51612473,\n        \"max\": 196.6600037,\n        \"num_unique_values\": 1239,\n        \"samples\": [\n          140.9296265,\n          87.04695892,\n          119.2058716\n        ],\n        \"semantic_type\": \"\",\n        \"description\": \"\"\n      }\n    },\n    {\n      \"column\": \"Close\",\n      \"properties\": {\n        \"dtype\": \"number\",\n        \"std\": 32.453265348553515,\n        \"min\": 52.70650101,\n        \"max\": 196.6600037,\n        \"num_unique_values\": 1235,\n        \"samples\": [\n          89.12000275,\n          118.6500015,\n          127.1044998\n        ],\n        \"semantic_type\": \"\",\n        \"description\": \"\"\n      }\n    },\n    {\n      \"column\": \"High\",\n      \"properties\": {\n        \"dtype\": \"number\",\n        \"std\": 32.68826606083992,\n        \"min\": 53.34550095,\n        \"max\": 201.4199982,\n        \"num_unique_values\": 1223,\n        \"samples\": [\n          115.0100021,\n          88.85649872,\n          76.84850311\n        ],\n        \"semantic_type\": \"\",\n        \"description\": \"\"\n      }\n    },\n    {\n      \"column\": \"Low\",\n      \"properties\": {\n        \"dtype\": \"number\",\n        \"std\": 32.24827585406207,\n        \"min\": 50.44350052,\n        \"max\": 194.9799957,\n        \"num_unique_values\": 1228,\n        \"samples\": [\n          86.87999725,\n          147.1150055,\n          86.05999756\n        ],\n        \"semantic_type\": \"\",\n        \"description\": \"\"\n      }\n    },\n    {\n      \"column\": \"Open\",\n      \"properties\": {\n        \"dtype\": \"number\",\n        \"std\": 32.48136179582182,\n        \"min\": 52.81850052,\n        \"max\": 197.25,\n        \"num_unique_values\": 1220,\n        \"samples\": [\n          132.9275055,\n          86.4509964,\n          67.27749634\n        ],\n        \"semantic_type\": \"\",\n        \"description\": \"\"\n      }\n    },\n    {\n      \"column\": \"Volume\",\n      \"properties\": {\n        \"dtype\": \"number\",\n        \"std\": 14617583,\n        \"min\": 9312000,\n        \"max\": 123200000,\n        \"num_unique_values\": 1251,\n        \"samples\": [\n          28342300,\n          32265200,\n          22838600\n        ],\n        \"semantic_type\": \"\",\n        \"description\": \"\"\n      }\n    }\n  ]\n}"
            }
          },
          "metadata": {},
          "execution_count": 6
        }
      ]
    },
    {
      "source": [
        "# @title Date vs Adj Close\n",
        "\n",
        "def _plot_series(series, series_name, series_index=0):\n",
        "  xs = series['Date']\n",
        "  ys = series['Adj Close']\n",
        "\n",
        "  plt.plot(xs, ys, label=series_name, color=\"green\")\n",
        "\n",
        "fig, ax = plt.subplots(figsize=(10, 5.2), layout='constrained')\n",
        "df_sorted = df.sort_values('Date', ascending=True)\n",
        "_plot_series(df_sorted, 'Date vs Adj Close')\n",
        "plt.xlabel('Date')\n",
        "plt.ylabel('Adj Close')\n"
      ],
      "cell_type": "code",
      "execution_count": 14,
      "outputs": [
        {
          "output_type": "execute_result",
          "data": {
            "text/plain": [
              "Text(0, 0.5, 'Adj Close')"
            ]
          },
          "metadata": {},
          "execution_count": 14
        },
        {
          "output_type": "display_data",
          "data": {
            "text/plain": [
              "<Figure size 1000x520 with 1 Axes>"
            ],
            "image/png": "[encoded data removed]"
          },
          "metadata": {}
        }
      ],
      "metadata": {
        "colab": {
          "base_uri": "https://localhost:8080/",
          "height": 566
        },
        "id": "P5t4PEP75mx3",
        "outputId": "d90ed98a-77d8-4b88-ad38-328bec8901bd"
      }
    },
    {
      "cell_type": "markdown",
      "source": [
        "### Creating Data Frames from external sources\n",
        "\n",
        "**Data ------------------- Source\tMethod**\n",
        "\n",
        "\n",
        "*   List of Lists\t------------ pd.DataFrame(data)\n",
        "*   Dictionary\t-------------- pd.DataFrame(data_dict)\n",
        "*   NumPy Array\t-------------- pd.DataFrame(numpy_array)\n",
        "*   CSV File\t---------------- pd.read_csv(\"file.csv\")\n",
        "*   Excel File --------------- pd.read_excel(\"file.xlsx\")\n",
        "*   JSON File\t---------------- pd.read_json(\"file.json\")\n",
        "*   SQL Database ------------- pd.read_sql(\"query\", connection)\n",
        "*   Web API\t------------------ pd.DataFrame(requests.get(url).json())\n",
        "*   HTML Table --------------- pd.read_html(url)\n",
        "*   Clipboard\t---------------- pd.read_clipboard()\n",
        "*   Parquet File\t------------ pd.read_parquet(\"file.parquet\")\n",
        "*   HDF5 File\t---------------- pd.read_hdf(\"file.h5\", key=\"dataset\")\n",
        "\n",
        "\n",
        "\n"
      ],
      "metadata": {
        "id": "2a5qehkJLhNA"
      }
    },
    {
      "cell_type": "markdown",
      "source": [
        "###Creating a dataframe from a JSON file"
      ],
      "metadata": {
        "id": "MC3aNfhqdmpW"
      }
    },
    {
      "cell_type": "code",
      "source": [
        "# Convert JSON string to DataFrame\n",
        "df = pd.read_json(\"data.txt\")\n",
        "\n",
        "print(df)"
      ],
      "metadata": {
        "colab": {
          "base_uri": "https://localhost:8080/"
        },
        "id": "3uKLu1NidrLm",
        "outputId": "a5398ab9-d9f0-48f5-8db2-bb1e1cde3a45"
      },
      "execution_count": 42,
      "outputs": [
        {
          "output_type": "stream",
          "name": "stdout",
          "text": [
            "      Name  Age         City\n",
            "0    Alice   25     New York\n",
            "1      Bob   30  Los Angeles\n",
            "2  Charlie   35      Chicago\n"
          ]
        }
      ]
    },
    {
      "cell_type": "markdown",
      "source": [
        "###Summary of DataFrame"
      ],
      "metadata": {
        "id": "M0FiIBvqDrSV"
      }
    },
    {
      "cell_type": "code",
      "source": [
        "print(df.info())\n",
        "#Displays column names, non-null values, and data types."
      ],
      "metadata": {
        "colab": {
          "base_uri": "https://localhost:8080/"
        },
        "id": "TIBClQmY4V4j",
        "outputId": "b57dab98-0e16-463b-ba61-f970c7c86ee1"
      },
      "execution_count": 15,
      "outputs": [
        {
          "output_type": "stream",
          "name": "stdout",
          "text": [
            "<class 'pandas.core.frame.DataFrame'>\n",
            "RangeIndex: 1258 entries, 0 to 1257\n",
            "Data columns (total 7 columns):\n",
            " #   Column     Non-Null Count  Dtype  \n",
            "---  ------     --------------  -----  \n",
            " 0   Date       1258 non-null   object \n",
            " 1   Adj Close  1258 non-null   float64\n",
            " 2   Close      1258 non-null   float64\n",
            " 3   High       1258 non-null   float64\n",
            " 4   Low        1258 non-null   float64\n",
            " 5   Open       1258 non-null   float64\n",
            " 6   Volume     1258 non-null   int64  \n",
            "dtypes: float64(5), int64(1), object(1)\n",
            "memory usage: 68.9+ KB\n",
            "None\n"
          ]
        }
      ]
    },
    {
      "cell_type": "markdown",
      "source": [
        "###Dimensions of the DataFrame"
      ],
      "metadata": {
        "id": "XHMAiuiTFzem"
      }
    },
    {
      "cell_type": "code",
      "source": [
        "#Returns the number of rows and columns as a tuple (rows, columns).\n",
        "print(df.shape)"
      ],
      "metadata": {
        "colab": {
          "base_uri": "https://localhost:8080/"
        },
        "id": "6WMLmrsvD4E7",
        "outputId": "c93b17b7-5167-4704-9aab-63d013f17ba1"
      },
      "execution_count": 17,
      "outputs": [
        {
          "output_type": "stream",
          "name": "stdout",
          "text": [
            "(1258, 7)\n"
          ]
        }
      ]
    },
    {
      "cell_type": "markdown",
      "source": [
        "###Total Number of Elements"
      ],
      "metadata": {
        "id": "YvO_epiEHhK3"
      }
    },
    {
      "cell_type": "code",
      "source": [
        "#\tReturns the total number of elements (rows × columns).\n",
        "print(df.size)"
      ],
      "metadata": {
        "colab": {
          "base_uri": "https://localhost:8080/"
        },
        "id": "lgThrfJ1F6oi",
        "outputId": "2ef83e72-1d2b-4797-dcdd-ada818723910"
      },
      "execution_count": 19,
      "outputs": [
        {
          "output_type": "stream",
          "name": "stdout",
          "text": [
            "8806\n"
          ]
        }
      ]
    },
    {
      "cell_type": "markdown",
      "source": [
        "###Number of Dimensions"
      ],
      "metadata": {
        "id": "VwaJURP4H8HO"
      }
    },
    {
      "cell_type": "code",
      "source": [
        "# Returns the number of axes (always 2 for DataFrame)\n",
        "print(df.ndim)"
      ],
      "metadata": {
        "colab": {
          "base_uri": "https://localhost:8080/"
        },
        "id": "3CRDGP_0H6xI",
        "outputId": "1e479545-7bcd-4bd7-a04f-d3ae491b9832"
      },
      "execution_count": 21,
      "outputs": [
        {
          "output_type": "stream",
          "name": "stdout",
          "text": [
            "2\n"
          ]
        }
      ]
    },
    {
      "cell_type": "markdown",
      "source": [
        "###Column Labels"
      ],
      "metadata": {
        "id": "e0R4bVM8IOQ6"
      }
    },
    {
      "cell_type": "code",
      "source": [
        "# Returns an index object containing column names.\n",
        "print(df.columns)"
      ],
      "metadata": {
        "colab": {
          "base_uri": "https://localhost:8080/"
        },
        "id": "sNYCVB2LHuAZ",
        "outputId": "c536a2a7-f9d0-4bc8-d5b0-98c9d0f3906d"
      },
      "execution_count": 22,
      "outputs": [
        {
          "output_type": "stream",
          "name": "stdout",
          "text": [
            "Index(['Date', 'Adj Close', 'Close', 'High', 'Low', 'Open', 'Volume'], dtype='object')\n"
          ]
        }
      ]
    },
    {
      "cell_type": "markdown",
      "source": [
        "### Row Labels"
      ],
      "metadata": {
        "id": "TYmk5BWAIfC-"
      }
    },
    {
      "cell_type": "code",
      "source": [
        "#Returns an index object with row labels.\n",
        "print(df.index)\n"
      ],
      "metadata": {
        "colab": {
          "base_uri": "https://localhost:8080/"
        },
        "id": "fowHnzs9IYZK",
        "outputId": "40b80b44-66cd-4cd6-c198-85b794559759"
      },
      "execution_count": 23,
      "outputs": [
        {
          "output_type": "stream",
          "name": "stdout",
          "text": [
            "RangeIndex(start=0, stop=1258, step=1)\n"
          ]
        }
      ]
    },
    {
      "cell_type": "markdown",
      "source": [
        "### Data Types of Each Column"
      ],
      "metadata": {
        "id": "iTmFNC8OIul5"
      }
    },
    {
      "cell_type": "code",
      "source": [
        "#Returns the data type of each column\n",
        "print(df.dtypes)"
      ],
      "metadata": {
        "colab": {
          "base_uri": "https://localhost:8080/"
        },
        "id": "8BkW4JTSImdy",
        "outputId": "16cac2c8-07dc-4fd4-cd2c-b7d90d462af4"
      },
      "execution_count": 25,
      "outputs": [
        {
          "output_type": "stream",
          "name": "stdout",
          "text": [
            "Date          object\n",
            "Adj Close    float64\n",
            "Close        float64\n",
            "High         float64\n",
            "Low          float64\n",
            "Open         float64\n",
            "Volume         int64\n",
            "dtype: object\n"
          ]
        }
      ]
    },
    {
      "cell_type": "markdown",
      "source": [
        "### Raw Data as NumPy Array"
      ],
      "metadata": {
        "id": "Gb8f0yZlI-o3"
      }
    },
    {
      "cell_type": "code",
      "source": [
        "# Returns the DataFrame's data as a NumPy array.\n",
        "print(df.values)\n"
      ],
      "metadata": {
        "colab": {
          "base_uri": "https://localhost:8080/"
        },
        "id": "Z4gBKpX3I3l4",
        "outputId": "1c84df50-19dc-4864-d438-14f00c06476b"
      },
      "execution_count": 26,
      "outputs": [
        {
          "output_type": "stream",
          "name": "stdout",
          "text": [
            "[['2020-01-02 00:00:00+00:00' 68.18682098 68.43399811 ... 67.32450104\n",
            "  67.42050171 27278000]\n",
            " ['2020-01-03 00:00:00+00:00' 67.83010101 68.0759964 ... 67.36599731\n",
            "  67.40000153 23408000]\n",
            " ['2020-01-06 00:00:00+00:00' 69.63805389 69.89050293 ... 67.55000305\n",
            "  67.58149719 46768000]\n",
            " ...\n",
            " ['2024-12-27 00:00:00+00:00' 192.7599945 192.7599945 ... 190.6499939\n",
            "  194.9499969 18891400]\n",
            " ['2024-12-30 00:00:00+00:00' 191.2400055 191.2400055 ... 189.1199951\n",
            "  189.8000031 14264700]\n",
            " ['2024-12-31 00:00:00+00:00' 189.3000031 189.3000031 ... 188.5099945\n",
            "  191.0800018 17466900]]\n"
          ]
        }
      ]
    },
    {
      "cell_type": "markdown",
      "source": [
        "###First n Rows"
      ],
      "metadata": {
        "id": "x-vJjn7zJJj_"
      }
    },
    {
      "cell_type": "code",
      "source": [
        "#Displays the first n rows (5 by default).\n",
        "print(df.head(2))\n"
      ],
      "metadata": {
        "colab": {
          "base_uri": "https://localhost:8080/"
        },
        "id": "b_aXKX4FJEN3",
        "outputId": "e70e04d3-0ce7-4182-fb58-c10de3023e91"
      },
      "execution_count": 27,
      "outputs": [
        {
          "output_type": "stream",
          "name": "stdout",
          "text": [
            "                        Date  Adj Close      Close       High        Low  \\\n",
            "0  2020-01-02 00:00:00+00:00  68.186821  68.433998  68.433998  67.324501   \n",
            "1  2020-01-03 00:00:00+00:00  67.830101  68.075996  68.687500  67.365997   \n",
            "\n",
            "        Open    Volume  \n",
            "0  67.420502  27278000  \n",
            "1  67.400002  23408000  \n"
          ]
        }
      ]
    },
    {
      "cell_type": "markdown",
      "source": [
        "###Last n Rows"
      ],
      "metadata": {
        "id": "PnsngrWAJU5-"
      }
    },
    {
      "cell_type": "code",
      "source": [
        "#Displays the last n rows.\n",
        "print(df.tail(1))\n"
      ],
      "metadata": {
        "colab": {
          "base_uri": "https://localhost:8080/"
        },
        "id": "Vk2k3orkJPLe",
        "outputId": "3e5162e6-d80e-42a3-9248-17b9f0f52239"
      },
      "execution_count": 29,
      "outputs": [
        {
          "output_type": "stream",
          "name": "stdout",
          "text": [
            "                           Date   Adj Close       Close        High  \\\n",
            "1257  2024-12-31 00:00:00+00:00  189.300003  189.300003  191.960007   \n",
            "\n",
            "             Low        Open    Volume  \n",
            "1257  188.509995  191.080002  17466900  \n"
          ]
        }
      ]
    },
    {
      "cell_type": "markdown",
      "source": [
        "##Transpose of DataFrame"
      ],
      "metadata": {
        "id": "wxxFpDxjJgpb"
      }
    },
    {
      "cell_type": "code",
      "source": [
        "#Swaps rows and columns.\n",
        "print(df.T)\n"
      ],
      "metadata": {
        "colab": {
          "base_uri": "https://localhost:8080/"
        },
        "id": "KLkwTrJ5Jb4r",
        "outputId": "e28d34d0-39f3-4025-9876-11d1fbc91ef9"
      },
      "execution_count": 30,
      "outputs": [
        {
          "output_type": "stream",
          "name": "stdout",
          "text": [
            "                                0                          1     \\\n",
            "Date       2020-01-02 00:00:00+00:00  2020-01-03 00:00:00+00:00   \n",
            "Adj Close                  68.186821                  67.830101   \n",
            "Close                      68.433998                  68.075996   \n",
            "High                       68.433998                    68.6875   \n",
            "Low                        67.324501                  67.365997   \n",
            "Open                       67.420502                  67.400002   \n",
            "Volume                      27278000                   23408000   \n",
            "\n",
            "                                2                          3     \\\n",
            "Date       2020-01-06 00:00:00+00:00  2020-01-07 00:00:00+00:00   \n",
            "Adj Close                  69.638054                  69.503548   \n",
            "Close                      69.890503                  69.755501   \n",
            "High                          69.916                  70.175003   \n",
            "Low                        67.550003                  69.578003   \n",
            "Open                       67.581497                  70.023003   \n",
            "Volume                      46768000                   34330000   \n",
            "\n",
            "                                4                          5     \\\n",
            "Date       2020-01-08 00:00:00+00:00  2020-01-09 00:00:00+00:00   \n",
            "Adj Close                  69.998253                  70.733093   \n",
            "Close                      70.251999                  70.989502   \n",
            "High                       70.592499                  71.433998   \n",
            "Low                          69.6315                  70.510498   \n",
            "Open                       69.740997                  71.096497   \n",
            "Volume                      35314000                   33200000   \n",
            "\n",
            "                                6                          7     \\\n",
            "Date       2020-01-10 00:00:00+00:00  2020-01-13 00:00:00+00:00   \n",
            "Adj Close                  71.189926                  71.741432   \n",
            "Close                      71.447998                  72.001503   \n",
            "High                       71.747002                  72.073998   \n",
            "Low                        70.980003                  71.268501   \n",
            "Open                       71.473503                  71.762497   \n",
            "Volume                      26258000                   30730000   \n",
            "\n",
            "                                8                          9     ...  \\\n",
            "Date       2020-01-14 00:00:00+00:00  2020-01-15 00:00:00+00:00  ...   \n",
            "Adj Close                  71.271141                  71.700081  ...   \n",
            "Close                      71.529503                  71.959999  ...   \n",
            "High                         72.1315                  72.039001  ...   \n",
            "Low                        71.388496                     71.583  ...   \n",
            "Open                            72.0                  71.651001  ...   \n",
            "Volume                      26076000                   21550000  ...   \n",
            "\n",
            "                                1248                       1249  \\\n",
            "Date       2024-12-17 00:00:00+00:00  2024-12-18 00:00:00+00:00   \n",
            "Adj Close                 195.419998                 188.399994   \n",
            "Close                     195.419998                 188.399994   \n",
            "High                      201.419998                      197.0   \n",
            "Low                       194.979996                 187.740005   \n",
            "Open                          197.25                 195.220001   \n",
            "Volume                      43504000                   34166100   \n",
            "\n",
            "                                1250                       1251  \\\n",
            "Date       2024-12-19 00:00:00+00:00  2024-12-20 00:00:00+00:00   \n",
            "Adj Close                 188.509995                 191.410004   \n",
            "Close                     188.509995                 191.410004   \n",
            "High                      193.029999                 192.889999   \n",
            "Low                       188.380005                 185.220001   \n",
            "Open                      191.630005                 185.779999   \n",
            "Volume                      32265200                   63462900   \n",
            "\n",
            "                                1252                       1253  \\\n",
            "Date       2024-12-23 00:00:00+00:00  2024-12-24 00:00:00+00:00   \n",
            "Adj Close                 194.630005                 196.110001   \n",
            "Close                     194.630005                 196.110001   \n",
            "High                      195.100006                 196.110001   \n",
            "Low                       190.149994                 193.779999   \n",
            "Open                      192.619995                 194.839996   \n",
            "Volume                      25675000                   10403300   \n",
            "\n",
            "                                1254                       1255  \\\n",
            "Date       2024-12-26 00:00:00+00:00  2024-12-27 00:00:00+00:00   \n",
            "Adj Close                 195.600006                 192.759995   \n",
            "Close                     195.600006                 192.759995   \n",
            "High                          196.75                 195.320007   \n",
            "Low                       194.380005                 190.649994   \n",
            "Open                      195.149994                 194.949997   \n",
            "Volume                      12046600                   18891400   \n",
            "\n",
            "                                1256                       1257  \n",
            "Date       2024-12-30 00:00:00+00:00  2024-12-31 00:00:00+00:00  \n",
            "Adj Close                 191.240005                 189.300003  \n",
            "Close                     191.240005                 189.300003  \n",
            "High                      192.550003                 191.960007  \n",
            "Low                       189.119995                 188.509995  \n",
            "Open                      189.800003                 191.080002  \n",
            "Volume                      14264700                   17466900  \n",
            "\n",
            "[7 rows x 1258 columns]\n"
          ]
        }
      ]
    },
    {
      "cell_type": "markdown",
      "source": [
        "###Memory Usage of Each Column"
      ],
      "metadata": {
        "id": "u1bMfEs4Jsb9"
      }
    },
    {
      "cell_type": "code",
      "source": [
        "# Shows how much memory (in bytes) each column consumes.\n",
        "print(df.memory_usage())\n"
      ],
      "metadata": {
        "colab": {
          "base_uri": "https://localhost:8080/"
        },
        "id": "H61QofKRJnan",
        "outputId": "fef600e5-0653-4f8a-9da0-119e54ccb7c5"
      },
      "execution_count": 31,
      "outputs": [
        {
          "output_type": "stream",
          "name": "stdout",
          "text": [
            "Index          132\n",
            "Date         10064\n",
            "Adj Close    10064\n",
            "Close        10064\n",
            "High         10064\n",
            "Low          10064\n",
            "Open         10064\n",
            "Volume       10064\n",
            "dtype: int64\n"
          ]
        }
      ]
    },
    {
      "cell_type": "markdown",
      "source": [
        "###Statistical Summary"
      ],
      "metadata": {
        "id": "z4o6ePWuJ9wm"
      }
    },
    {
      "cell_type": "code",
      "source": [
        "#Provides summary statistics for numerical columns.\n",
        "print(df.describe())\n"
      ],
      "metadata": {
        "colab": {
          "base_uri": "https://localhost:8080/"
        },
        "id": "IpqASf5kJ5yY",
        "outputId": "98dcf899-8808-477b-b4d1-380c2f01e4d1"
      },
      "execution_count": 32,
      "outputs": [
        {
          "output_type": "stream",
          "name": "stdout",
          "text": [
            "         Adj Close        Close         High          Low         Open  \\\n",
            "count  1258.000000  1258.000000  1258.000000  1258.000000  1258.000000   \n",
            "mean    118.684965   119.075610   120.378055   117.722657   119.004592   \n",
            "std      32.403071    32.453265    32.688266    32.248276    32.481362   \n",
            "min      52.516125    52.706501    53.345501    50.443501    52.818501   \n",
            "25%      93.608171    93.947502    95.272123    92.305002    93.832497   \n",
            "50%     119.267639   119.699997   121.044502   118.626247   119.712502   \n",
            "75%     140.598320   141.107998   142.101002   139.796120   140.996876   \n",
            "max     196.660004   196.660004   201.419998   194.979996   197.250000   \n",
            "\n",
            "             Volume  \n",
            "count  1.258000e+03  \n",
            "mean   3.308795e+07  \n",
            "std    1.461758e+07  \n",
            "min    9.312000e+06  \n",
            "25%    2.343938e+07  \n",
            "50%    2.943300e+07  \n",
            "75%    3.773515e+07  \n",
            "max    1.232000e+08  \n"
          ]
        }
      ]
    },
    {
      "cell_type": "markdown",
      "source": [
        "###Check for Missing Values"
      ],
      "metadata": {
        "id": "4etmsQWqKK2z"
      }
    },
    {
      "cell_type": "code",
      "source": [
        "#Returns a DataFrame with True for missing values.\n",
        "print(df.isnull())"
      ],
      "metadata": {
        "colab": {
          "base_uri": "https://localhost:8080/"
        },
        "id": "CypJl0maKHQQ",
        "outputId": "023daf4a-b6d9-4722-d973-6bc5f0f06891"
      },
      "execution_count": 33,
      "outputs": [
        {
          "output_type": "stream",
          "name": "stdout",
          "text": [
            "       Date  Adj Close  Close   High    Low   Open  Volume\n",
            "0     False      False  False  False  False  False   False\n",
            "1     False      False  False  False  False  False   False\n",
            "2     False      False  False  False  False  False   False\n",
            "3     False      False  False  False  False  False   False\n",
            "4     False      False  False  False  False  False   False\n",
            "...     ...        ...    ...    ...    ...    ...     ...\n",
            "1253  False      False  False  False  False  False   False\n",
            "1254  False      False  False  False  False  False   False\n",
            "1255  False      False  False  False  False  False   False\n",
            "1256  False      False  False  False  False  False   False\n",
            "1257  False      False  False  False  False  False   False\n",
            "\n",
            "[1258 rows x 7 columns]\n"
          ]
        }
      ]
    },
    {
      "cell_type": "markdown",
      "source": [
        "###Check if DataFrame is Empty\n"
      ],
      "metadata": {
        "id": "6rxolPPWKc9p"
      }
    },
    {
      "cell_type": "code",
      "source": [
        "#Returns True if the DataFrame has no rows.\n",
        "print(df.empty)  # Output: False\n"
      ],
      "metadata": {
        "colab": {
          "base_uri": "https://localhost:8080/"
        },
        "id": "zjP02Gp4KUBq",
        "outputId": "bc038545-a161-4e1f-b5ef-2472761d40e8"
      },
      "execution_count": 34,
      "outputs": [
        {
          "output_type": "stream",
          "name": "stdout",
          "text": [
            "False\n"
          ]
        }
      ]
    },
    {
      "cell_type": "markdown",
      "source": [
        "###Check for Duplicate Rows"
      ],
      "metadata": {
        "id": "iLY3QbbVKr51"
      }
    },
    {
      "cell_type": "code",
      "source": [
        "#Returns True for duplicate rows.\n",
        "print(df.duplicated().sum())"
      ],
      "metadata": {
        "colab": {
          "base_uri": "https://localhost:8080/"
        },
        "id": "dKI5qxQsKjp3",
        "outputId": "8b0ef846-5f56-436a-f991-c14af23beef5"
      },
      "execution_count": 38,
      "outputs": [
        {
          "output_type": "stream",
          "name": "stdout",
          "text": [
            "0\n"
          ]
        }
      ]
    },
    {
      "cell_type": "code",
      "source": [],
      "metadata": {
        "id": "VNVKnmzgK1Da"
      },
      "execution_count": null,
      "outputs": []
    }
  ]
}