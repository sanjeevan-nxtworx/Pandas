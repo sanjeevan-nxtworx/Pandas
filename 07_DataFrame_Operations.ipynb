{
  "nbformat": 4,
  "nbformat_minor": 0,
  "metadata": {
    "colab": {
      "provenance": [],
      "authorship_tag": "ABX9TyMH/nFO2sA2nFdUgJ9QvqR0",
      "include_colab_link": true
    },
    "kernelspec": {
      "name": "python3",
      "display_name": "Python 3"
    },
    "language_info": {
      "name": "python"
    }
  },
  "cells": [
    {
      "cell_type": "markdown",
      "metadata": {
        "id": "view-in-github",
        "colab_type": "text"
      },
      "source": [
        "<a href=\"https://colab.research.google.com/github/sanjeevan-nxtworx/Pandas/blob/main/07_DataFrame_Operations.ipynb\" target=\"_parent\"><img src=\"https://colab.research.google.com/assets/colab-badge.svg\" alt=\"Open In Colab\"/></a>"
      ]
    },
    {
      "cell_type": "markdown",
      "source": [
        "###**Operations on a Pandas DataFrame**"
      ],
      "metadata": {
        "id": "k90IfrdbgZZw"
      }
    },
    {
      "cell_type": "code",
      "source": [
        "import pandas as pd"
      ],
      "metadata": {
        "id": "cS1Dfj9LgiKe"
      },
      "execution_count": 1,
      "outputs": []
    },
    {
      "cell_type": "markdown",
      "source": [
        "### Type of Operations\n",
        "\n",
        "**Operations\t------------------------------- Example Operations**\n",
        "* Basic Operations -------------------------\t.shape(), .info(), .describe()\n",
        "* Selection & Indexing ---------------------\t.loc[], .iloc[], selecting columns\n",
        "* Filtering\t -------------------------------  df[df['Age'] > 30]\n",
        "* Aggregation & Grouping\t------------------  .sum(), .mean(), .groupby()\n",
        "* Sorting\t----------------------------------  .sort_values(by='Age')\n",
        "* Joining & Merging\t------------------------   pd.concat(), pd.merge()\n",
        "* Handling Missing Data\t--------------------   .isnull(), .dropna(), .fillna()\n",
        "* Transformation\t--------------------------   .rename(), .astype(), .apply()\n",
        "* Statistical Analysis\t--------------------   .mean(), .std(), .max(), .min()\n",
        "* File I/O\t--------------------------------   .to_csv(), .read_csv(), .to_json()\n"
      ],
      "metadata": {
        "id": "CVIvu930gyHr"
      }
    },
    {
      "cell_type": "markdown",
      "source": [
        "##Selection and Indexing"
      ],
      "metadata": {
        "id": "7CU3E8DuhggW"
      }
    },
    {
      "cell_type": "code",
      "source": [
        "df = pd.read_csv(\"googl_data_2020_2025.csv\")\n",
        "df"
      ],
      "metadata": {
        "colab": {
          "base_uri": "https://localhost:8080/",
          "height": 423
        },
        "id": "TU5rQUO3goeI",
        "outputId": "cc9b5175-2825-42bd-98ae-f6cf2a7c1c67"
      },
      "execution_count": 2,
      "outputs": [
        {
          "output_type": "execute_result",
          "data": {
            "text/plain": [
              "                           Date   Adj Close       Close        High  \\\n",
              "0     2020-01-02 00:00:00+00:00   68.186821   68.433998   68.433998   \n",
              "1     2020-01-03 00:00:00+00:00   67.830101   68.075996   68.687500   \n",
              "2     2020-01-06 00:00:00+00:00   69.638054   69.890503   69.916000   \n",
              "3     2020-01-07 00:00:00+00:00   69.503548   69.755501   70.175003   \n",
              "4     2020-01-08 00:00:00+00:00   69.998253   70.251999   70.592499   \n",
              "...                         ...         ...         ...         ...   \n",
              "1253  2024-12-24 00:00:00+00:00  196.110001  196.110001  196.110001   \n",
              "1254  2024-12-26 00:00:00+00:00  195.600006  195.600006  196.750000   \n",
              "1255  2024-12-27 00:00:00+00:00  192.759995  192.759995  195.320007   \n",
              "1256  2024-12-30 00:00:00+00:00  191.240005  191.240005  192.550003   \n",
              "1257  2024-12-31 00:00:00+00:00  189.300003  189.300003  191.960007   \n",
              "\n",
              "             Low        Open    Volume  \n",
              "0      67.324501   67.420502  27278000  \n",
              "1      67.365997   67.400002  23408000  \n",
              "2      67.550003   67.581497  46768000  \n",
              "3      69.578003   70.023003  34330000  \n",
              "4      69.631500   69.740997  35314000  \n",
              "...          ...         ...       ...  \n",
              "1253  193.779999  194.839996  10403300  \n",
              "1254  194.380005  195.149994  12046600  \n",
              "1255  190.649994  194.949997  18891400  \n",
              "1256  189.119995  189.800003  14264700  \n",
              "1257  188.509995  191.080002  17466900  \n",
              "\n",
              "[1258 rows x 7 columns]"
            ],
            "text/html": [
              "\n",
              "  <div id=\"df-64b1d109-f8d3-4a10-8f2c-6b8444fbcb25\" class=\"colab-df-container\">\n",
              "    <div>\n",
              "<style scoped>\n",
              "    .dataframe tbody tr th:only-of-type {\n",
              "        vertical-align: middle;\n",
              "    }\n",
              "\n",
              "    .dataframe tbody tr th {\n",
              "        vertical-align: top;\n",
              "    }\n",
              "\n",
              "    .dataframe thead th {\n",
              "        text-align: right;\n",
              "    }\n",
              "</style>\n",
              "<table border=\"1\" class=\"dataframe\">\n",
              "  <thead>\n",
              "    <tr style=\"text-align: right;\">\n",
              "      <th></th>\n",
              "      <th>Date</th>\n",
              "      <th>Adj Close</th>\n",
              "      <th>Close</th>\n",
              "      <th>High</th>\n",
              "      <th>Low</th>\n",
              "      <th>Open</th>\n",
              "      <th>Volume</th>\n",
              "    </tr>\n",
              "  </thead>\n",
              "  <tbody>\n",
              "    <tr>\n",
              "      <th>0</th>\n",
              "      <td>2020-01-02 00:00:00+00:00</td>\n",
              "      <td>68.186821</td>\n",
              "      <td>68.433998</td>\n",
              "      <td>68.433998</td>\n",
              "      <td>67.324501</td>\n",
              "      <td>67.420502</td>\n",
              "      <td>27278000</td>\n",
              "    </tr>\n",
              "    <tr>\n",
              "      <th>1</th>\n",
              "      <td>2020-01-03 00:00:00+00:00</td>\n",
              "      <td>67.830101</td>\n",
              "      <td>68.075996</td>\n",
              "      <td>68.687500</td>\n",
              "      <td>67.365997</td>\n",
              "      <td>67.400002</td>\n",
              "      <td>23408000</td>\n",
              "    </tr>\n",
              "    <tr>\n",
              "      <th>2</th>\n",
              "      <td>2020-01-06 00:00:00+00:00</td>\n",
              "      <td>69.638054</td>\n",
              "      <td>69.890503</td>\n",
              "      <td>69.916000</td>\n",
              "      <td>67.550003</td>\n",
              "      <td>67.581497</td>\n",
              "      <td>46768000</td>\n",
              "    </tr>\n",
              "    <tr>\n",
              "      <th>3</th>\n",
              "      <td>2020-01-07 00:00:00+00:00</td>\n",
              "      <td>69.503548</td>\n",
              "      <td>69.755501</td>\n",
              "      <td>70.175003</td>\n",
              "      <td>69.578003</td>\n",
              "      <td>70.023003</td>\n",
              "      <td>34330000</td>\n",
              "    </tr>\n",
              "    <tr>\n",
              "      <th>4</th>\n",
              "      <td>2020-01-08 00:00:00+00:00</td>\n",
              "      <td>69.998253</td>\n",
              "      <td>70.251999</td>\n",
              "      <td>70.592499</td>\n",
              "      <td>69.631500</td>\n",
              "      <td>69.740997</td>\n",
              "      <td>35314000</td>\n",
              "    </tr>\n",
              "    <tr>\n",
              "      <th>...</th>\n",
              "      <td>...</td>\n",
              "      <td>...</td>\n",
              "      <td>...</td>\n",
              "      <td>...</td>\n",
              "      <td>...</td>\n",
              "      <td>...</td>\n",
              "      <td>...</td>\n",
              "    </tr>\n",
              "    <tr>\n",
              "      <th>1253</th>\n",
              "      <td>2024-12-24 00:00:00+00:00</td>\n",
              "      <td>196.110001</td>\n",
              "      <td>196.110001</td>\n",
              "      <td>196.110001</td>\n",
              "      <td>193.779999</td>\n",
              "      <td>194.839996</td>\n",
              "      <td>10403300</td>\n",
              "    </tr>\n",
              "    <tr>\n",
              "      <th>1254</th>\n",
              "      <td>2024-12-26 00:00:00+00:00</td>\n",
              "      <td>195.600006</td>\n",
              "      <td>195.600006</td>\n",
              "      <td>196.750000</td>\n",
              "      <td>194.380005</td>\n",
              "      <td>195.149994</td>\n",
              "      <td>12046600</td>\n",
              "    </tr>\n",
              "    <tr>\n",
              "      <th>1255</th>\n",
              "      <td>2024-12-27 00:00:00+00:00</td>\n",
              "      <td>192.759995</td>\n",
              "      <td>192.759995</td>\n",
              "      <td>195.320007</td>\n",
              "      <td>190.649994</td>\n",
              "      <td>194.949997</td>\n",
              "      <td>18891400</td>\n",
              "    </tr>\n",
              "    <tr>\n",
              "      <th>1256</th>\n",
              "      <td>2024-12-30 00:00:00+00:00</td>\n",
              "      <td>191.240005</td>\n",
              "      <td>191.240005</td>\n",
              "      <td>192.550003</td>\n",
              "      <td>189.119995</td>\n",
              "      <td>189.800003</td>\n",
              "      <td>14264700</td>\n",
              "    </tr>\n",
              "    <tr>\n",
              "      <th>1257</th>\n",
              "      <td>2024-12-31 00:00:00+00:00</td>\n",
              "      <td>189.300003</td>\n",
              "      <td>189.300003</td>\n",
              "      <td>191.960007</td>\n",
              "      <td>188.509995</td>\n",
              "      <td>191.080002</td>\n",
              "      <td>17466900</td>\n",
              "    </tr>\n",
              "  </tbody>\n",
              "</table>\n",
              "<p>1258 rows × 7 columns</p>\n",
              "</div>\n",
              "    <div class=\"colab-df-buttons\">\n",
              "\n",
              "  <div class=\"colab-df-container\">\n",
              "    <button class=\"colab-df-convert\" onclick=\"convertToInteractive('df-64b1d109-f8d3-4a10-8f2c-6b8444fbcb25')\"\n",
              "            title=\"Convert this dataframe to an interactive table.\"\n",
              "            style=\"display:none;\">\n",
              "\n",
              "  <svg xmlns=\"http://www.w3.org/2000/svg\" height=\"24px\" viewBox=\"0 -960 960 960\">\n",
              "    <path d=\"M120-120v-720h720v720H120Zm60-500h600v-160H180v160Zm220 220h160v-160H400v160Zm0 220h160v-160H400v160ZM180-400h160v-160H180v160Zm440 0h160v-160H620v160ZM180-180h160v-160H180v160Zm440 0h160v-160H620v160Z\"/>\n",
              "  </svg>\n",
              "    </button>\n",
              "\n",
              "  <style>\n",
              "    .colab-df-container {\n",
              "      display:flex;\n",
              "      gap: 12px;\n",
              "    }\n",
              "\n",
              "    .colab-df-convert {\n",
              "      background-color: #E8F0FE;\n",
              "      border: none;\n",
              "      border-radius: 50%;\n",
              "      cursor: pointer;\n",
              "      display: none;\n",
              "      fill: #1967D2;\n",
              "      height: 32px;\n",
              "      padding: 0 0 0 0;\n",
              "      width: 32px;\n",
              "    }\n",
              "\n",
              "    .colab-df-convert:hover {\n",
              "      background-color: #E2EBFA;\n",
              "      box-shadow: 0px 1px 2px rgba(60, 64, 67, 0.3), 0px 1px 3px 1px rgba(60, 64, 67, 0.15);\n",
              "      fill: #174EA6;\n",
              "    }\n",
              "\n",
              "    .colab-df-buttons div {\n",
              "      margin-bottom: 4px;\n",
              "    }\n",
              "\n",
              "    [theme=dark] .colab-df-convert {\n",
              "      background-color: #3B4455;\n",
              "      fill: #D2E3FC;\n",
              "    }\n",
              "\n",
              "    [theme=dark] .colab-df-convert:hover {\n",
              "      background-color: #434B5C;\n",
              "      box-shadow: 0px 1px 3px 1px rgba(0, 0, 0, 0.15);\n",
              "      filter: drop-shadow(0px 1px 2px rgba(0, 0, 0, 0.3));\n",
              "      fill: #FFFFFF;\n",
              "    }\n",
              "  </style>\n",
              "\n",
              "    <script>\n",
              "      const buttonEl =\n",
              "        document.querySelector('#df-64b1d109-f8d3-4a10-8f2c-6b8444fbcb25 button.colab-df-convert');\n",
              "      buttonEl.style.display =\n",
              "        google.colab.kernel.accessAllowed ? 'block' : 'none';\n",
              "\n",
              "      async function convertToInteractive(key) {\n",
              "        const element = document.querySelector('#df-64b1d109-f8d3-4a10-8f2c-6b8444fbcb25');\n",
              "        const dataTable =\n",
              "          await google.colab.kernel.invokeFunction('convertToInteractive',\n",
              "                                                    [key], {});\n",
              "        if (!dataTable) return;\n",
              "\n",
              "        const docLinkHtml = 'Like what you see? Visit the ' +\n",
              "          '<a target=\"_blank\" href=https://colab.research.google.com/notebooks/data_table.ipynb>data table notebook</a>'\n",
              "          + ' to learn more about interactive tables.';\n",
              "        element.innerHTML = '';\n",
              "        dataTable['output_type'] = 'display_data';\n",
              "        await google.colab.output.renderOutput(dataTable, element);\n",
              "        const docLink = document.createElement('div');\n",
              "        docLink.innerHTML = docLinkHtml;\n",
              "        element.appendChild(docLink);\n",
              "      }\n",
              "    </script>\n",
              "  </div>\n",
              "\n",
              "\n",
              "<div id=\"df-97236e13-8b3a-4851-9530-64876a3c5dda\">\n",
              "  <button class=\"colab-df-quickchart\" onclick=\"quickchart('df-97236e13-8b3a-4851-9530-64876a3c5dda')\"\n",
              "            title=\"Suggest charts\"\n",
              "            style=\"display:none;\">\n",
              "\n",
              "<svg xmlns=\"http://www.w3.org/2000/svg\" height=\"24px\"viewBox=\"0 0 24 24\"\n",
              "     width=\"24px\">\n",
              "    <g>\n",
              "        <path d=\"M19 3H5c-1.1 0-2 .9-2 2v14c0 1.1.9 2 2 2h14c1.1 0 2-.9 2-2V5c0-1.1-.9-2-2-2zM9 17H7v-7h2v7zm4 0h-2V7h2v10zm4 0h-2v-4h2v4z\"/>\n",
              "    </g>\n",
              "</svg>\n",
              "  </button>\n",
              "\n",
              "<style>\n",
              "  .colab-df-quickchart {\n",
              "      --bg-color: #E8F0FE;\n",
              "      --fill-color: #1967D2;\n",
              "      --hover-bg-color: #E2EBFA;\n",
              "      --hover-fill-color: #174EA6;\n",
              "      --disabled-fill-color: #AAA;\n",
              "      --disabled-bg-color: #DDD;\n",
              "  }\n",
              "\n",
              "  [theme=dark] .colab-df-quickchart {\n",
              "      --bg-color: #3B4455;\n",
              "      --fill-color: #D2E3FC;\n",
              "      --hover-bg-color: #434B5C;\n",
              "      --hover-fill-color: #FFFFFF;\n",
              "      --disabled-bg-color: #3B4455;\n",
              "      --disabled-fill-color: #666;\n",
              "  }\n",
              "\n",
              "  .colab-df-quickchart {\n",
              "    background-color: var(--bg-color);\n",
              "    border: none;\n",
              "    border-radius: 50%;\n",
              "    cursor: pointer;\n",
              "    display: none;\n",
              "    fill: var(--fill-color);\n",
              "    height: 32px;\n",
              "    padding: 0;\n",
              "    width: 32px;\n",
              "  }\n",
              "\n",
              "  .colab-df-quickchart:hover {\n",
              "    background-color: var(--hover-bg-color);\n",
              "    box-shadow: 0 1px 2px rgba(60, 64, 67, 0.3), 0 1px 3px 1px rgba(60, 64, 67, 0.15);\n",
              "    fill: var(--button-hover-fill-color);\n",
              "  }\n",
              "\n",
              "  .colab-df-quickchart-complete:disabled,\n",
              "  .colab-df-quickchart-complete:disabled:hover {\n",
              "    background-color: var(--disabled-bg-color);\n",
              "    fill: var(--disabled-fill-color);\n",
              "    box-shadow: none;\n",
              "  }\n",
              "\n",
              "  .colab-df-spinner {\n",
              "    border: 2px solid var(--fill-color);\n",
              "    border-color: transparent;\n",
              "    border-bottom-color: var(--fill-color);\n",
              "    animation:\n",
              "      spin 1s steps(1) infinite;\n",
              "  }\n",
              "\n",
              "  @keyframes spin {\n",
              "    0% {\n",
              "      border-color: transparent;\n",
              "      border-bottom-color: var(--fill-color);\n",
              "      border-left-color: var(--fill-color);\n",
              "    }\n",
              "    20% {\n",
              "      border-color: transparent;\n",
              "      border-left-color: var(--fill-color);\n",
              "      border-top-color: var(--fill-color);\n",
              "    }\n",
              "    30% {\n",
              "      border-color: transparent;\n",
              "      border-left-color: var(--fill-color);\n",
              "      border-top-color: var(--fill-color);\n",
              "      border-right-color: var(--fill-color);\n",
              "    }\n",
              "    40% {\n",
              "      border-color: transparent;\n",
              "      border-right-color: var(--fill-color);\n",
              "      border-top-color: var(--fill-color);\n",
              "    }\n",
              "    60% {\n",
              "      border-color: transparent;\n",
              "      border-right-color: var(--fill-color);\n",
              "    }\n",
              "    80% {\n",
              "      border-color: transparent;\n",
              "      border-right-color: var(--fill-color);\n",
              "      border-bottom-color: var(--fill-color);\n",
              "    }\n",
              "    90% {\n",
              "      border-color: transparent;\n",
              "      border-bottom-color: var(--fill-color);\n",
              "    }\n",
              "  }\n",
              "</style>\n",
              "\n",
              "  <script>\n",
              "    async function quickchart(key) {\n",
              "      const quickchartButtonEl =\n",
              "        document.querySelector('#' + key + ' button');\n",
              "      quickchartButtonEl.disabled = true;  // To prevent multiple clicks.\n",
              "      quickchartButtonEl.classList.add('colab-df-spinner');\n",
              "      try {\n",
              "        const charts = await google.colab.kernel.invokeFunction(\n",
              "            'suggestCharts', [key], {});\n",
              "      } catch (error) {\n",
              "        console.error('Error during call to suggestCharts:', error);\n",
              "      }\n",
              "      quickchartButtonEl.classList.remove('colab-df-spinner');\n",
              "      quickchartButtonEl.classList.add('colab-df-quickchart-complete');\n",
              "    }\n",
              "    (() => {\n",
              "      let quickchartButtonEl =\n",
              "        document.querySelector('#df-97236e13-8b3a-4851-9530-64876a3c5dda button');\n",
              "      quickchartButtonEl.style.display =\n",
              "        google.colab.kernel.accessAllowed ? 'block' : 'none';\n",
              "    })();\n",
              "  </script>\n",
              "</div>\n",
              "\n",
              "  <div id=\"id_9677e6f3-4bcd-4113-8b89-1b283129bd59\">\n",
              "    <style>\n",
              "      .colab-df-generate {\n",
              "        background-color: #E8F0FE;\n",
              "        border: none;\n",
              "        border-radius: 50%;\n",
              "        cursor: pointer;\n",
              "        display: none;\n",
              "        fill: #1967D2;\n",
              "        height: 32px;\n",
              "        padding: 0 0 0 0;\n",
              "        width: 32px;\n",
              "      }\n",
              "\n",
              "      .colab-df-generate:hover {\n",
              "        background-color: #E2EBFA;\n",
              "        box-shadow: 0px 1px 2px rgba(60, 64, 67, 0.3), 0px 1px 3px 1px rgba(60, 64, 67, 0.15);\n",
              "        fill: #174EA6;\n",
              "      }\n",
              "\n",
              "      [theme=dark] .colab-df-generate {\n",
              "        background-color: #3B4455;\n",
              "        fill: #D2E3FC;\n",
              "      }\n",
              "\n",
              "      [theme=dark] .colab-df-generate:hover {\n",
              "        background-color: #434B5C;\n",
              "        box-shadow: 0px 1px 3px 1px rgba(0, 0, 0, 0.15);\n",
              "        filter: drop-shadow(0px 1px 2px rgba(0, 0, 0, 0.3));\n",
              "        fill: #FFFFFF;\n",
              "      }\n",
              "    </style>\n",
              "    <button class=\"colab-df-generate\" onclick=\"generateWithVariable('df')\"\n",
              "            title=\"Generate code using this dataframe.\"\n",
              "            style=\"display:none;\">\n",
              "\n",
              "  <svg xmlns=\"http://www.w3.org/2000/svg\" height=\"24px\"viewBox=\"0 0 24 24\"\n",
              "       width=\"24px\">\n",
              "    <path d=\"M7,19H8.4L18.45,9,17,7.55,7,17.6ZM5,21V16.75L18.45,3.32a2,2,0,0,1,2.83,0l1.4,1.43a1.91,1.91,0,0,1,.58,1.4,1.91,1.91,0,0,1-.58,1.4L9.25,21ZM18.45,9,17,7.55Zm-12,3A5.31,5.31,0,0,0,4.9,8.1,5.31,5.31,0,0,0,1,6.5,5.31,5.31,0,0,0,4.9,4.9,5.31,5.31,0,0,0,6.5,1,5.31,5.31,0,0,0,8.1,4.9,5.31,5.31,0,0,0,12,6.5,5.46,5.46,0,0,0,6.5,12Z\"/>\n",
              "  </svg>\n",
              "    </button>\n",
              "    <script>\n",
              "      (() => {\n",
              "      const buttonEl =\n",
              "        document.querySelector('#id_9677e6f3-4bcd-4113-8b89-1b283129bd59 button.colab-df-generate');\n",
              "      buttonEl.style.display =\n",
              "        google.colab.kernel.accessAllowed ? 'block' : 'none';\n",
              "\n",
              "      buttonEl.onclick = () => {\n",
              "        google.colab.notebook.generateWithVariable('df');\n",
              "      }\n",
              "      })();\n",
              "    </script>\n",
              "  </div>\n",
              "\n",
              "    </div>\n",
              "  </div>\n"
            ],
            "application/vnd.google.colaboratory.intrinsic+json": {
              "type": "dataframe",
              "variable_name": "df",
              "summary": "{\n  \"name\": \"df\",\n  \"rows\": 1258,\n  \"fields\": [\n    {\n      \"column\": \"Date\",\n      \"properties\": {\n        \"dtype\": \"object\",\n        \"num_unique_values\": 1258,\n        \"samples\": [\n          \"2022-03-24 00:00:00+00:00\",\n          \"2020-05-28 00:00:00+00:00\",\n          \"2020-03-17 00:00:00+00:00\"\n        ],\n        \"semantic_type\": \"\",\n        \"description\": \"\"\n      }\n    },\n    {\n      \"column\": \"Adj Close\",\n      \"properties\": {\n        \"dtype\": \"number\",\n        \"std\": 32.403070986778665,\n        \"min\": 52.51612473,\n        \"max\": 196.6600037,\n        \"num_unique_values\": 1239,\n        \"samples\": [\n          140.9296265,\n          87.04695892,\n          119.2058716\n        ],\n        \"semantic_type\": \"\",\n        \"description\": \"\"\n      }\n    },\n    {\n      \"column\": \"Close\",\n      \"properties\": {\n        \"dtype\": \"number\",\n        \"std\": 32.453265348553515,\n        \"min\": 52.70650101,\n        \"max\": 196.6600037,\n        \"num_unique_values\": 1235,\n        \"samples\": [\n          89.12000275,\n          118.6500015,\n          127.1044998\n        ],\n        \"semantic_type\": \"\",\n        \"description\": \"\"\n      }\n    },\n    {\n      \"column\": \"High\",\n      \"properties\": {\n        \"dtype\": \"number\",\n        \"std\": 32.68826606083992,\n        \"min\": 53.34550095,\n        \"max\": 201.4199982,\n        \"num_unique_values\": 1223,\n        \"samples\": [\n          115.0100021,\n          88.85649872,\n          76.84850311\n        ],\n        \"semantic_type\": \"\",\n        \"description\": \"\"\n      }\n    },\n    {\n      \"column\": \"Low\",\n      \"properties\": {\n        \"dtype\": \"number\",\n        \"std\": 32.24827585406207,\n        \"min\": 50.44350052,\n        \"max\": 194.9799957,\n        \"num_unique_values\": 1228,\n        \"samples\": [\n          86.87999725,\n          147.1150055,\n          86.05999756\n        ],\n        \"semantic_type\": \"\",\n        \"description\": \"\"\n      }\n    },\n    {\n      \"column\": \"Open\",\n      \"properties\": {\n        \"dtype\": \"number\",\n        \"std\": 32.48136179582182,\n        \"min\": 52.81850052,\n        \"max\": 197.25,\n        \"num_unique_values\": 1220,\n        \"samples\": [\n          132.9275055,\n          86.4509964,\n          67.27749634\n        ],\n        \"semantic_type\": \"\",\n        \"description\": \"\"\n      }\n    },\n    {\n      \"column\": \"Volume\",\n      \"properties\": {\n        \"dtype\": \"number\",\n        \"std\": 14617583,\n        \"min\": 9312000,\n        \"max\": 123200000,\n        \"num_unique_values\": 1251,\n        \"samples\": [\n          28342300,\n          32265200,\n          22838600\n        ],\n        \"semantic_type\": \"\",\n        \"description\": \"\"\n      }\n    }\n  ]\n}"
            }
          },
          "metadata": {},
          "execution_count": 2
        }
      ]
    },
    {
      "cell_type": "markdown",
      "source": [
        "###Selecting a Single Column"
      ],
      "metadata": {
        "id": "v-vTt_ZMiPuX"
      }
    },
    {
      "cell_type": "code",
      "source": [
        "adjSeries = df['Adj Close']\n",
        "adjSeries.dtype\n",
        "adjSeries"
      ],
      "metadata": {
        "colab": {
          "base_uri": "https://localhost:8080/",
          "height": 458
        },
        "id": "HPyysvabiBXm",
        "outputId": "bc0baa38-266a-4bce-be44-6dd2e11dc3a9"
      },
      "execution_count": 4,
      "outputs": [
        {
          "output_type": "execute_result",
          "data": {
            "text/plain": [
              "0        68.186821\n",
              "1        67.830101\n",
              "2        69.638054\n",
              "3        69.503548\n",
              "4        69.998253\n",
              "           ...    \n",
              "1253    196.110001\n",
              "1254    195.600006\n",
              "1255    192.759995\n",
              "1256    191.240005\n",
              "1257    189.300003\n",
              "Name: Adj Close, Length: 1258, dtype: float64"
            ],
            "text/html": [
              "<div>\n",
              "<style scoped>\n",
              "    .dataframe tbody tr th:only-of-type {\n",
              "        vertical-align: middle;\n",
              "    }\n",
              "\n",
              "    .dataframe tbody tr th {\n",
              "        vertical-align: top;\n",
              "    }\n",
              "\n",
              "    .dataframe thead th {\n",
              "        text-align: right;\n",
              "    }\n",
              "</style>\n",
              "<table border=\"1\" class=\"dataframe\">\n",
              "  <thead>\n",
              "    <tr style=\"text-align: right;\">\n",
              "      <th></th>\n",
              "      <th>Adj Close</th>\n",
              "    </tr>\n",
              "  </thead>\n",
              "  <tbody>\n",
              "    <tr>\n",
              "      <th>0</th>\n",
              "      <td>68.186821</td>\n",
              "    </tr>\n",
              "    <tr>\n",
              "      <th>1</th>\n",
              "      <td>67.830101</td>\n",
              "    </tr>\n",
              "    <tr>\n",
              "      <th>2</th>\n",
              "      <td>69.638054</td>\n",
              "    </tr>\n",
              "    <tr>\n",
              "      <th>3</th>\n",
              "      <td>69.503548</td>\n",
              "    </tr>\n",
              "    <tr>\n",
              "      <th>4</th>\n",
              "      <td>69.998253</td>\n",
              "    </tr>\n",
              "    <tr>\n",
              "      <th>...</th>\n",
              "      <td>...</td>\n",
              "    </tr>\n",
              "    <tr>\n",
              "      <th>1253</th>\n",
              "      <td>196.110001</td>\n",
              "    </tr>\n",
              "    <tr>\n",
              "      <th>1254</th>\n",
              "      <td>195.600006</td>\n",
              "    </tr>\n",
              "    <tr>\n",
              "      <th>1255</th>\n",
              "      <td>192.759995</td>\n",
              "    </tr>\n",
              "    <tr>\n",
              "      <th>1256</th>\n",
              "      <td>191.240005</td>\n",
              "    </tr>\n",
              "    <tr>\n",
              "      <th>1257</th>\n",
              "      <td>189.300003</td>\n",
              "    </tr>\n",
              "  </tbody>\n",
              "</table>\n",
              "<p>1258 rows × 1 columns</p>\n",
              "</div><br><label><b>dtype:</b> float64</label>"
            ]
          },
          "metadata": {},
          "execution_count": 4
        }
      ]
    },
    {
      "cell_type": "markdown",
      "source": [
        "###Selecting Multiple Columns"
      ],
      "metadata": {
        "id": "pRh4r7iTjHC8"
      }
    },
    {
      "cell_type": "code",
      "source": [
        "print(df[['High', 'Low']].head())  # Multiple columns"
      ],
      "metadata": {
        "colab": {
          "base_uri": "https://localhost:8080/"
        },
        "id": "LBtyDhYjiqXr",
        "outputId": "c7181c8d-e656-432a-881b-ba7f550468af"
      },
      "execution_count": 7,
      "outputs": [
        {
          "output_type": "stream",
          "name": "stdout",
          "text": [
            "        High        Low\n",
            "0  68.433998  67.324501\n",
            "1  68.687500  67.365997\n",
            "2  69.916000  67.550003\n",
            "3  70.175003  69.578003\n",
            "4  70.592499  69.631500\n"
          ]
        }
      ]
    },
    {
      "cell_type": "markdown",
      "source": [
        "### Using loc and iloc\n",
        "\n",
        "**Feature\t-------.loc[] --------------------\t.iloc[]**\n",
        "* Selection Type --\tLabel-based selection\t------ Position-based selection\n",
        "* Indexing\t--------Uses row/column labels ------\tUses row/column integer positions\n",
        "* Inclusive Range\t-- Both start and end labels are included\t---- End index is excluded (like Python slicing)\n",
        "* Usage with Slices\t----Works with explicit labels\t---- Works with integer-based ranges\n",
        "* Error Handling\t---- Raises an error if a label is missing\t----Does not raise an error unless out of range\n"
      ],
      "metadata": {
        "id": "KhVIYn7kkJWF"
      }
    },
    {
      "cell_type": "code",
      "source": [
        "# Sample DataFrame\n",
        "data = {\n",
        "    'Name': ['Alice', 'Bob', 'Charlie'],\n",
        "    'Age': [25, 30, 35],\n",
        "    'Salary': [50000, 60000, 70000]\n",
        "}\n",
        "\n",
        "dfSample = pd.DataFrame(data, index=['A', 'B', 'C'])\n"
      ],
      "metadata": {
        "id": "u295aLXYjMx5"
      },
      "execution_count": 8,
      "outputs": []
    },
    {
      "cell_type": "markdown",
      "source": [
        "###Label-based Selection"
      ],
      "metadata": {
        "id": "pC7baBcgmllq"
      }
    },
    {
      "cell_type": "code",
      "source": [
        "# Select a row by label\n",
        "print(dfSample.loc['A'])\n"
      ],
      "metadata": {
        "colab": {
          "base_uri": "https://localhost:8080/"
        },
        "id": "7531CcqTlN-1",
        "outputId": "fdc5a851-3d28-4ecb-a617-60e61509717a"
      },
      "execution_count": 10,
      "outputs": [
        {
          "output_type": "stream",
          "name": "stdout",
          "text": [
            "Name      Alice\n",
            "Age          25\n",
            "Salary    50000\n",
            "Name: A, dtype: object\n"
          ]
        }
      ]
    },
    {
      "cell_type": "code",
      "source": [
        "# Select multiple rows using labels\n",
        "print(dfSample.loc[['A', 'C']])\n"
      ],
      "metadata": {
        "colab": {
          "base_uri": "https://localhost:8080/"
        },
        "id": "JkwOum6MlQ5l",
        "outputId": "6ca0d88a-38eb-40c4-ed00-2da12fe53289"
      },
      "execution_count": 11,
      "outputs": [
        {
          "output_type": "stream",
          "name": "stdout",
          "text": [
            "      Name  Age  Salary\n",
            "A    Alice   25   50000\n",
            "C  Charlie   35   70000\n"
          ]
        }
      ]
    },
    {
      "cell_type": "code",
      "source": [
        "# Select a range of rows (inclusive)\n",
        "print(dfSample.loc['A':'C'])\n",
        "\n"
      ],
      "metadata": {
        "colab": {
          "base_uri": "https://localhost:8080/"
        },
        "id": "Fpbd24szlZNO",
        "outputId": "69a2b0f1-5ecf-44bf-b5e8-856d008cc1ee"
      },
      "execution_count": 12,
      "outputs": [
        {
          "output_type": "stream",
          "name": "stdout",
          "text": [
            "      Name  Age  Salary\n",
            "A    Alice   25   50000\n",
            "B      Bob   30   60000\n",
            "C  Charlie   35   70000\n"
          ]
        }
      ]
    },
    {
      "cell_type": "code",
      "source": [
        "# Select specific columns\n",
        "print(dfSample.loc[:, ['Name', 'Salary']])\n"
      ],
      "metadata": {
        "colab": {
          "base_uri": "https://localhost:8080/"
        },
        "id": "htWphNAjlgFA",
        "outputId": "f08c9cc5-c505-4367-9bad-6fec99d2f9ed"
      },
      "execution_count": 14,
      "outputs": [
        {
          "output_type": "stream",
          "name": "stdout",
          "text": [
            "      Name  Salary\n",
            "A    Alice   50000\n",
            "B      Bob   60000\n",
            "C  Charlie   70000\n"
          ]
        }
      ]
    },
    {
      "cell_type": "code",
      "source": [
        "# Select specific Rows and columns\n",
        "print(dfSample.loc[['A'], ['Name', 'Salary']])"
      ],
      "metadata": {
        "colab": {
          "base_uri": "https://localhost:8080/"
        },
        "id": "gO-a0OLolstU",
        "outputId": "a15a4640-5ad8-40c1-8a26-14ad064481d8"
      },
      "execution_count": 24,
      "outputs": [
        {
          "output_type": "stream",
          "name": "stdout",
          "text": [
            "    Name  Salary\n",
            "A  Alice   50000\n"
          ]
        }
      ]
    },
    {
      "cell_type": "markdown",
      "source": [
        "###Position-based Selection"
      ],
      "metadata": {
        "id": "0MTE_uBamroe"
      }
    },
    {
      "cell_type": "code",
      "source": [
        "# Select a row by position\n",
        "print(dfSample.iloc[0])\n"
      ],
      "metadata": {
        "colab": {
          "base_uri": "https://localhost:8080/"
        },
        "id": "GFhAU3B5l3yA",
        "outputId": "d5db3bde-9656-4170-d1db-14292cd4e236"
      },
      "execution_count": 27,
      "outputs": [
        {
          "output_type": "stream",
          "name": "stdout",
          "text": [
            "Name      Alice\n",
            "Age          25\n",
            "Salary    50000\n",
            "Name: A, dtype: object\n"
          ]
        }
      ]
    },
    {
      "cell_type": "code",
      "source": [
        "# Select multiple rows using integer positions\n",
        "print(dfSample.iloc[[0, 2]])\n"
      ],
      "metadata": {
        "colab": {
          "base_uri": "https://localhost:8080/"
        },
        "id": "3MNqJ04pm2fp",
        "outputId": "67fa42ae-7245-4dbf-f02b-1037d2ea1655"
      },
      "execution_count": 28,
      "outputs": [
        {
          "output_type": "stream",
          "name": "stdout",
          "text": [
            "      Name  Age  Salary\n",
            "A    Alice   25   50000\n",
            "C  Charlie   35   70000\n"
          ]
        }
      ]
    },
    {
      "cell_type": "code",
      "source": [
        "# Select a range of rows (end index is **excluded**)\n",
        "print(dfSample.iloc[0:2])  # Only rows 0 and 1 are selected\n"
      ],
      "metadata": {
        "colab": {
          "base_uri": "https://localhost:8080/"
        },
        "id": "f3dh3xS6nBMv",
        "outputId": "9ef07c5b-6c3a-45e6-f729-a7f522822127"
      },
      "execution_count": 30,
      "outputs": [
        {
          "output_type": "stream",
          "name": "stdout",
          "text": [
            "    Name  Age  Salary\n",
            "A  Alice   25   50000\n",
            "B    Bob   30   60000\n"
          ]
        }
      ]
    },
    {
      "cell_type": "code",
      "source": [
        "# Select specific columns by position\n",
        "print(dfSample.iloc[:, [0, 2]])\n"
      ],
      "metadata": {
        "colab": {
          "base_uri": "https://localhost:8080/"
        },
        "id": "ZfHRQetjnFgC",
        "outputId": "d5475feb-d525-4230-b697-82cc4f1e7880"
      },
      "execution_count": 31,
      "outputs": [
        {
          "output_type": "stream",
          "name": "stdout",
          "text": [
            "      Name  Salary\n",
            "A    Alice   50000\n",
            "B      Bob   60000\n",
            "C  Charlie   70000\n"
          ]
        }
      ]
    },
    {
      "cell_type": "markdown",
      "source": [
        "###Filtering & Conditional Selection"
      ],
      "metadata": {
        "id": "WttT94aRnnTJ"
      }
    },
    {
      "cell_type": "code",
      "source": [],
      "metadata": {
        "id": "UUeFkapPnMk_"
      },
      "execution_count": null,
      "outputs": []
    }
  ]
}