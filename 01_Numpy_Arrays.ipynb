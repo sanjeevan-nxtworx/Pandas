{
  "nbformat": 4,
  "nbformat_minor": 0,
  "metadata": {
    "colab": {
      "provenance": [],
      "authorship_tag": "ABX9TyPBi5Drfr/TQSB2DddswU1I",
      "include_colab_link": true
    },
    "kernelspec": {
      "name": "python3",
      "display_name": "Python 3"
    },
    "language_info": {
      "name": "python"
    }
  },
  "cells": [
    {
      "cell_type": "markdown",
      "metadata": {
        "id": "view-in-github",
        "colab_type": "text"
      },
      "source": [
        "<a href=\"https://colab.research.google.com/github/sanjeevan-nxtworx/Pandas/blob/main/01_Numpy_Arrays.ipynb\" target=\"_parent\"><img src=\"https://colab.research.google.com/assets/colab-badge.svg\" alt=\"Open In Colab\"/></a>"
      ]
    },
    {
      "cell_type": "markdown",
      "source": [
        "###Import libraries\n"
      ],
      "metadata": {
        "id": "TDfr14E5kvFT"
      }
    },
    {
      "cell_type": "code",
      "execution_count": 2,
      "metadata": {
        "id": "K1yy5BLAjlec"
      },
      "outputs": [],
      "source": [
        "import numpy as np"
      ]
    },
    {
      "cell_type": "markdown",
      "source": [
        "###Create a numpy array from python list"
      ],
      "metadata": {
        "id": "9eA_UTKikuCx"
      }
    },
    {
      "cell_type": "code",
      "source": [
        "sales = [0, 5, 155, 0, 518, 0, 1827, 628, 217, 223]\n",
        "sales_array = np.array(sales)\n",
        "type(sales_array)"
      ],
      "metadata": {
        "colab": {
          "base_uri": "https://localhost:8080/"
        },
        "id": "1kv4b_VdlBef",
        "outputId": "25329b11-7941-4700-97e9-566a56a7ba2b"
      },
      "execution_count": 3,
      "outputs": [
        {
          "output_type": "execute_result",
          "data": {
            "text/plain": [
              "numpy.ndarray"
            ]
          },
          "metadata": {},
          "execution_count": 3
        }
      ]
    },
    {
      "cell_type": "code",
      "source": [
        "print(f\"ndim: {sales_array.ndim}\")\n",
        "print(f\"shape: {sales_array.shape}\")\n",
        "print(f\"size: {sales_array.ndim}\")\n",
        "print(f\"dtype: {sales_array.dtype}\")"
      ],
      "metadata": {
        "colab": {
          "base_uri": "https://localhost:8080/"
        },
        "id": "Vv8bTBTBlSU2",
        "outputId": "6990daf9-3713-49ac-aa3d-2ed8bcb44ff7"
      },
      "execution_count": 5,
      "outputs": [
        {
          "output_type": "stream",
          "name": "stdout",
          "text": [
            "ndim: 1\n",
            "shape: (10,)\n",
            "size: 1\n",
            "dtype: int64\n"
          ]
        }
      ]
    },
    {
      "cell_type": "markdown",
      "source": [
        "###Creating a multidimensional Array"
      ],
      "metadata": {
        "id": "cMYG4R60l0zC"
      }
    },
    {
      "cell_type": "code",
      "source": [
        "sales = [[10, 20, 30, 40, 50],[50, 70, 80, 90, 100]]\n",
        "sales_array = np.array(sales)\n",
        "sales"
      ],
      "metadata": {
        "colab": {
          "base_uri": "https://localhost:8080/"
        },
        "id": "O06UdAETloIY",
        "outputId": "33db751e-abac-4a3f-b870-dfd7b6f76212"
      },
      "execution_count": 9,
      "outputs": [
        {
          "output_type": "execute_result",
          "data": {
            "text/plain": [
              "[[10, 20, 30, 40, 50], [50, 70, 80, 90, 100]]"
            ]
          },
          "metadata": {},
          "execution_count": 9
        }
      ]
    },
    {
      "cell_type": "code",
      "source": [
        "print(f\"ndim: {sales_array.ndim}\")\n",
        "print(f\"shape: {sales_array.shape}\")\n",
        "print(f\"size: {sales_array.ndim}\")\n",
        "print(f\"dtype: {sales_array.dtype}\")"
      ],
      "metadata": {
        "colab": {
          "base_uri": "https://localhost:8080/"
        },
        "id": "mUpR7WJ8l-BG",
        "outputId": "80241158-cf61-4e31-92c3-a47a837bc8ff"
      },
      "execution_count": 10,
      "outputs": [
        {
          "output_type": "stream",
          "name": "stdout",
          "text": [
            "ndim: 2\n",
            "shape: (2, 5)\n",
            "size: 2\n",
            "dtype: int64\n"
          ]
        }
      ]
    },
    {
      "cell_type": "markdown",
      "source": [
        "###Transposing an array"
      ],
      "metadata": {
        "id": "4OVXaXVamoOk"
      }
    },
    {
      "cell_type": "code",
      "source": [
        "sales_array.T"
      ],
      "metadata": {
        "colab": {
          "base_uri": "https://localhost:8080/"
        },
        "id": "YPxsUVtPmL8S",
        "outputId": "51a61134-38d7-43c4-a856-200e83ecd8d6"
      },
      "execution_count": 11,
      "outputs": [
        {
          "output_type": "execute_result",
          "data": {
            "text/plain": [
              "array([[ 10,  50],\n",
              "       [ 20,  70],\n",
              "       [ 30,  80],\n",
              "       [ 40,  90],\n",
              "       [ 50, 100]])"
            ]
          },
          "metadata": {},
          "execution_count": 11
        }
      ]
    },
    {
      "cell_type": "markdown",
      "source": [
        "###Creating an array using list comprehension"
      ],
      "metadata": {
        "id": "oYwGzkatnAws"
      }
    },
    {
      "cell_type": "code",
      "source": [
        "mylist = [x * 10 for x in range(1, 11)]\n",
        "my_array = np.array(mylist)"
      ],
      "metadata": {
        "id": "JVh3e-XOmsO7"
      },
      "execution_count": 12,
      "outputs": []
    },
    {
      "cell_type": "code",
      "source": [
        "my_array"
      ],
      "metadata": {
        "colab": {
          "base_uri": "https://localhost:8080/"
        },
        "id": "22YEEA7MnPp4",
        "outputId": "27cff917-e52b-4574-e87f-da007669adc5"
      },
      "execution_count": 13,
      "outputs": [
        {
          "output_type": "execute_result",
          "data": {
            "text/plain": [
              "array([ 10,  20,  30,  40,  50,  60,  70,  80,  90, 100])"
            ]
          },
          "metadata": {},
          "execution_count": 13
        }
      ]
    },
    {
      "cell_type": "markdown",
      "source": [
        "###reshaping an array"
      ],
      "metadata": {
        "id": "B7fKx9-BngwP"
      }
    },
    {
      "cell_type": "code",
      "source": [
        "my_array.reshape(5, 2)"
      ],
      "metadata": {
        "colab": {
          "base_uri": "https://localhost:8080/"
        },
        "id": "smGg_R0qnQjp",
        "outputId": "ac4d913c-2aa8-4079-abd4-80a35b9b630f"
      },
      "execution_count": 14,
      "outputs": [
        {
          "output_type": "execute_result",
          "data": {
            "text/plain": [
              "array([[ 10,  20],\n",
              "       [ 30,  40],\n",
              "       [ 50,  60],\n",
              "       [ 70,  80],\n",
              "       [ 90, 100]])"
            ]
          },
          "metadata": {},
          "execution_count": 14
        }
      ]
    },
    {
      "cell_type": "markdown",
      "source": [
        "###Creating ones and zeroes array"
      ],
      "metadata": {
        "id": "KnqTi5wbnqGk"
      }
    },
    {
      "cell_type": "code",
      "source": [
        "np.ones(5,)"
      ],
      "metadata": {
        "colab": {
          "base_uri": "https://localhost:8080/"
        },
        "id": "fuwU5m5Ynlop",
        "outputId": "a4143300-5181-438e-fc08-4f59ed1e029e"
      },
      "execution_count": 15,
      "outputs": [
        {
          "output_type": "execute_result",
          "data": {
            "text/plain": [
              "array([1., 1., 1., 1., 1.])"
            ]
          },
          "metadata": {},
          "execution_count": 15
        }
      ]
    },
    {
      "cell_type": "code",
      "source": [
        "np.ones((5, 2), dtype='int32')"
      ],
      "metadata": {
        "colab": {
          "base_uri": "https://localhost:8080/"
        },
        "id": "iGZimqPHn-Cw",
        "outputId": "e5a12c6e-b068-4ba2-d9f8-c097a0ee08a0"
      },
      "execution_count": 21,
      "outputs": [
        {
          "output_type": "execute_result",
          "data": {
            "text/plain": [
              "array([[1, 1],\n",
              "       [1, 1],\n",
              "       [1, 1],\n",
              "       [1, 1],\n",
              "       [1, 1]], dtype=int32)"
            ]
          },
          "metadata": {},
          "execution_count": 21
        }
      ]
    },
    {
      "cell_type": "code",
      "source": [
        "np.zeros((10, 2))"
      ],
      "metadata": {
        "colab": {
          "base_uri": "https://localhost:8080/"
        },
        "id": "n_ger3fhn_m1",
        "outputId": "387e7a38-520f-4505-c429-c922118b8922"
      },
      "execution_count": 23,
      "outputs": [
        {
          "output_type": "execute_result",
          "data": {
            "text/plain": [
              "array([[0., 0.],\n",
              "       [0., 0.],\n",
              "       [0., 0.],\n",
              "       [0., 0.],\n",
              "       [0., 0.],\n",
              "       [0., 0.],\n",
              "       [0., 0.],\n",
              "       [0., 0.],\n",
              "       [0., 0.],\n",
              "       [0., 0.]])"
            ]
          },
          "metadata": {},
          "execution_count": 23
        }
      ]
    },
    {
      "cell_type": "code",
      "source": [
        "np.arange(10, 100, 10)  # start stop step"
      ],
      "metadata": {
        "colab": {
          "base_uri": "https://localhost:8080/"
        },
        "id": "X6lNMaYXo-aT",
        "outputId": "f03ef3fd-ff4c-4612-b970-b7dddfb9a0b6"
      },
      "execution_count": 24,
      "outputs": [
        {
          "output_type": "execute_result",
          "data": {
            "text/plain": [
              "array([10, 20, 30, 40, 50, 60, 70, 80, 90])"
            ]
          },
          "metadata": {},
          "execution_count": 24
        }
      ]
    },
    {
      "cell_type": "code",
      "source": [
        "np.linspace(10, 100, 5)"
      ],
      "metadata": {
        "colab": {
          "base_uri": "https://localhost:8080/"
        },
        "id": "umM4uCC1pOPg",
        "outputId": "87787c2e-9464-468d-9b18-dfd734c7f27a"
      },
      "execution_count": 25,
      "outputs": [
        {
          "output_type": "execute_result",
          "data": {
            "text/plain": [
              "array([ 10. ,  32.5,  55. ,  77.5, 100. ])"
            ]
          },
          "metadata": {},
          "execution_count": 25
        }
      ]
    },
    {
      "cell_type": "code",
      "source": [
        "np.identity(10)"
      ],
      "metadata": {
        "colab": {
          "base_uri": "https://localhost:8080/"
        },
        "id": "nxNSBCJIp_1u",
        "outputId": "96198202-bd8c-4712-b7b4-c97bed112147"
      },
      "execution_count": 27,
      "outputs": [
        {
          "output_type": "execute_result",
          "data": {
            "text/plain": [
              "array([[1., 0., 0., 0., 0., 0., 0., 0., 0., 0.],\n",
              "       [0., 1., 0., 0., 0., 0., 0., 0., 0., 0.],\n",
              "       [0., 0., 1., 0., 0., 0., 0., 0., 0., 0.],\n",
              "       [0., 0., 0., 1., 0., 0., 0., 0., 0., 0.],\n",
              "       [0., 0., 0., 0., 1., 0., 0., 0., 0., 0.],\n",
              "       [0., 0., 0., 0., 0., 1., 0., 0., 0., 0.],\n",
              "       [0., 0., 0., 0., 0., 0., 1., 0., 0., 0.],\n",
              "       [0., 0., 0., 0., 0., 0., 0., 1., 0., 0.],\n",
              "       [0., 0., 0., 0., 0., 0., 0., 0., 1., 0.],\n",
              "       [0., 0., 0., 0., 0., 0., 0., 0., 0., 1.]])"
            ]
          },
          "metadata": {},
          "execution_count": 27
        }
      ]
    },
    {
      "cell_type": "markdown",
      "source": [
        "###Creating an array of structured objects"
      ],
      "metadata": {
        "id": "ozD0HpaRpc_n"
      }
    },
    {
      "cell_type": "code",
      "source": [
        "dt = np.dtype([('name', 'U10'), ('age', 'i4'), ('score', 'f4')])\n",
        "arr = np.array([('Alice', 25, 85.5), ('Bob', 30, 92.3)], dtype=dt)\n",
        "\n",
        "print(arr['name'])  # Output: ['Alice' 'Bob']\n",
        "print(arr.dtype)\n",
        "# Output: [('name', '<U10'), ('age', '<i4'), ('score', '<f4')]\n"
      ],
      "metadata": {
        "colab": {
          "base_uri": "https://localhost:8080/"
        },
        "id": "cQkfZIDnpIK5",
        "outputId": "0851cae1-444d-4f65-a62e-27c3acdddf8f"
      },
      "execution_count": 26,
      "outputs": [
        {
          "output_type": "stream",
          "name": "stdout",
          "text": [
            "['Alice' 'Bob']\n",
            "[('name', '<U10'), ('age', '<i4'), ('score', '<f4')]\n"
          ]
        }
      ]
    },
    {
      "cell_type": "markdown",
      "source": [
        "###Converting the type of an array"
      ],
      "metadata": {
        "id": "n_x0165Zq6Pe"
      }
    },
    {
      "cell_type": "code",
      "source": [
        "arr = np.array([1.5, 2.3, 3.7])\n",
        "int_arr = arr.astype(np.int32)  # Converts float to integer\n",
        "print(int_arr)  # Output: [1 2 3]\n"
      ],
      "metadata": {
        "colab": {
          "base_uri": "https://localhost:8080/"
        },
        "id": "-AfPAl3gpjfk",
        "outputId": "4e2bc8f3-3a43-4233-8ec5-91e7574f1ecb"
      },
      "execution_count": 28,
      "outputs": [
        {
          "output_type": "stream",
          "name": "stdout",
          "text": [
            "[1 2 3]\n"
          ]
        }
      ]
    },
    {
      "cell_type": "code",
      "source": [],
      "metadata": {
        "id": "Hd8DDHkorA9u"
      },
      "execution_count": null,
      "outputs": []
    }
  ]
}