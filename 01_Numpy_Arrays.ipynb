{
  "nbformat": 4,
  "nbformat_minor": 0,
  "metadata": {
    "colab": {
      "provenance": [],
      "authorship_tag": "ABX9TyNT+jD9DvnQGJSOu12aKE8Q",
      "include_colab_link": true
    },
    "kernelspec": {
      "name": "python3",
      "display_name": "Python 3"
    },
    "language_info": {
      "name": "python"
    }
  },
  "cells": [
    {
      "cell_type": "markdown",
      "metadata": {
        "id": "view-in-github",
        "colab_type": "text"
      },
      "source": [
        "<a href=\"https://colab.research.google.com/github/sanjeevan-nxtworx/Pandas/blob/main/01_Numpy_Arrays.ipynb\" target=\"_parent\"><img src=\"https://colab.research.google.com/assets/colab-badge.svg\" alt=\"Open In Colab\"/></a>"
      ]
    },
    {
      "cell_type": "markdown",
      "source": [
        "###Import libraries\n"
      ],
      "metadata": {
        "id": "TDfr14E5kvFT"
      }
    },
    {
      "cell_type": "code",
      "execution_count": null,
      "metadata": {
        "id": "K1yy5BLAjlec"
      },
      "outputs": [],
      "source": [
        "import numpy as np"
      ]
    },
    {
      "cell_type": "markdown",
      "source": [
        "###Create a numpy array from python list"
      ],
      "metadata": {
        "id": "9eA_UTKikuCx"
      }
    },
    {
      "cell_type": "code",
      "source": [
        "sales = [0, 5, 155, 0, 518, 0, 1827, 628, 217, 223]\n",
        "sales_array = np.array(sales)\n",
        "type(sales_array)"
      ],
      "metadata": {
        "colab": {
          "base_uri": "https://localhost:8080/"
        },
        "id": "1kv4b_VdlBef",
        "outputId": "25329b11-7941-4700-97e9-566a56a7ba2b"
      },
      "execution_count": null,
      "outputs": [
        {
          "output_type": "execute_result",
          "data": {
            "text/plain": [
              "numpy.ndarray"
            ]
          },
          "metadata": {},
          "execution_count": 3
        }
      ]
    },
    {
      "cell_type": "code",
      "source": [
        "print(f\"ndim: {sales_array.ndim}\")\n",
        "print(f\"shape: {sales_array.shape}\")\n",
        "print(f\"size: {sales_array.ndim}\")\n",
        "print(f\"dtype: {sales_array.dtype}\")"
      ],
      "metadata": {
        "colab": {
          "base_uri": "https://localhost:8080/"
        },
        "id": "Vv8bTBTBlSU2",
        "outputId": "6990daf9-3713-49ac-aa3d-2ed8bcb44ff7"
      },
      "execution_count": null,
      "outputs": [
        {
          "output_type": "stream",
          "name": "stdout",
          "text": [
            "ndim: 1\n",
            "shape: (10,)\n",
            "size: 1\n",
            "dtype: int64\n"
          ]
        }
      ]
    },
    {
      "cell_type": "markdown",
      "source": [
        "###Creating a multidimensional Array"
      ],
      "metadata": {
        "id": "cMYG4R60l0zC"
      }
    },
    {
      "cell_type": "code",
      "source": [
        "sales = [[10, 20, 30, 40, 50],[50, 70, 80, 90, 100]]\n",
        "sales_array = np.array(sales)\n",
        "sales"
      ],
      "metadata": {
        "colab": {
          "base_uri": "https://localhost:8080/"
        },
        "id": "O06UdAETloIY",
        "outputId": "33db751e-abac-4a3f-b870-dfd7b6f76212"
      },
      "execution_count": null,
      "outputs": [
        {
          "output_type": "execute_result",
          "data": {
            "text/plain": [
              "[[10, 20, 30, 40, 50], [50, 70, 80, 90, 100]]"
            ]
          },
          "metadata": {},
          "execution_count": 9
        }
      ]
    },
    {
      "cell_type": "code",
      "source": [
        "print(f\"ndim: {sales_array.ndim}\")\n",
        "print(f\"shape: {sales_array.shape}\")\n",
        "print(f\"size: {sales_array.ndim}\")\n",
        "print(f\"dtype: {sales_array.dtype}\")"
      ],
      "metadata": {
        "colab": {
          "base_uri": "https://localhost:8080/"
        },
        "id": "mUpR7WJ8l-BG",
        "outputId": "80241158-cf61-4e31-92c3-a47a837bc8ff"
      },
      "execution_count": null,
      "outputs": [
        {
          "output_type": "stream",
          "name": "stdout",
          "text": [
            "ndim: 2\n",
            "shape: (2, 5)\n",
            "size: 2\n",
            "dtype: int64\n"
          ]
        }
      ]
    },
    {
      "cell_type": "markdown",
      "source": [
        "###Transposing an array"
      ],
      "metadata": {
        "id": "4OVXaXVamoOk"
      }
    },
    {
      "cell_type": "code",
      "source": [
        "sales_array.T"
      ],
      "metadata": {
        "colab": {
          "base_uri": "https://localhost:8080/"
        },
        "id": "YPxsUVtPmL8S",
        "outputId": "51a61134-38d7-43c4-a856-200e83ecd8d6"
      },
      "execution_count": null,
      "outputs": [
        {
          "output_type": "execute_result",
          "data": {
            "text/plain": [
              "array([[ 10,  50],\n",
              "       [ 20,  70],\n",
              "       [ 30,  80],\n",
              "       [ 40,  90],\n",
              "       [ 50, 100]])"
            ]
          },
          "metadata": {},
          "execution_count": 11
        }
      ]
    },
    {
      "cell_type": "markdown",
      "source": [
        "###Creating an array using list comprehension"
      ],
      "metadata": {
        "id": "oYwGzkatnAws"
      }
    },
    {
      "cell_type": "code",
      "source": [
        "mylist = [x * 10 for x in range(1, 11)]\n",
        "my_array = np.array(mylist)"
      ],
      "metadata": {
        "id": "JVh3e-XOmsO7"
      },
      "execution_count": null,
      "outputs": []
    },
    {
      "cell_type": "code",
      "source": [
        "my_array"
      ],
      "metadata": {
        "colab": {
          "base_uri": "https://localhost:8080/"
        },
        "id": "22YEEA7MnPp4",
        "outputId": "27cff917-e52b-4574-e87f-da007669adc5"
      },
      "execution_count": null,
      "outputs": [
        {
          "output_type": "execute_result",
          "data": {
            "text/plain": [
              "array([ 10,  20,  30,  40,  50,  60,  70,  80,  90, 100])"
            ]
          },
          "metadata": {},
          "execution_count": 13
        }
      ]
    },
    {
      "cell_type": "markdown",
      "source": [
        "###reshaping an array"
      ],
      "metadata": {
        "id": "B7fKx9-BngwP"
      }
    },
    {
      "cell_type": "code",
      "source": [
        "my_array.reshape(5, 2)"
      ],
      "metadata": {
        "colab": {
          "base_uri": "https://localhost:8080/"
        },
        "id": "smGg_R0qnQjp",
        "outputId": "ac4d913c-2aa8-4079-abd4-80a35b9b630f"
      },
      "execution_count": null,
      "outputs": [
        {
          "output_type": "execute_result",
          "data": {
            "text/plain": [
              "array([[ 10,  20],\n",
              "       [ 30,  40],\n",
              "       [ 50,  60],\n",
              "       [ 70,  80],\n",
              "       [ 90, 100]])"
            ]
          },
          "metadata": {},
          "execution_count": 14
        }
      ]
    },
    {
      "cell_type": "markdown",
      "source": [
        "###Creating ones and zeroes array"
      ],
      "metadata": {
        "id": "KnqTi5wbnqGk"
      }
    },
    {
      "cell_type": "code",
      "source": [
        "np.ones(5,)"
      ],
      "metadata": {
        "colab": {
          "base_uri": "https://localhost:8080/"
        },
        "id": "fuwU5m5Ynlop",
        "outputId": "a4143300-5181-438e-fc08-4f59ed1e029e"
      },
      "execution_count": null,
      "outputs": [
        {
          "output_type": "execute_result",
          "data": {
            "text/plain": [
              "array([1., 1., 1., 1., 1.])"
            ]
          },
          "metadata": {},
          "execution_count": 15
        }
      ]
    },
    {
      "cell_type": "code",
      "source": [
        "np.ones((5, 2), dtype='int32')"
      ],
      "metadata": {
        "colab": {
          "base_uri": "https://localhost:8080/"
        },
        "id": "iGZimqPHn-Cw",
        "outputId": "e5a12c6e-b068-4ba2-d9f8-c097a0ee08a0"
      },
      "execution_count": null,
      "outputs": [
        {
          "output_type": "execute_result",
          "data": {
            "text/plain": [
              "array([[1, 1],\n",
              "       [1, 1],\n",
              "       [1, 1],\n",
              "       [1, 1],\n",
              "       [1, 1]], dtype=int32)"
            ]
          },
          "metadata": {},
          "execution_count": 21
        }
      ]
    },
    {
      "cell_type": "code",
      "source": [
        "np.zeros((10, 2))"
      ],
      "metadata": {
        "colab": {
          "base_uri": "https://localhost:8080/"
        },
        "id": "n_ger3fhn_m1",
        "outputId": "387e7a38-520f-4505-c429-c922118b8922"
      },
      "execution_count": null,
      "outputs": [
        {
          "output_type": "execute_result",
          "data": {
            "text/plain": [
              "array([[0., 0.],\n",
              "       [0., 0.],\n",
              "       [0., 0.],\n",
              "       [0., 0.],\n",
              "       [0., 0.],\n",
              "       [0., 0.],\n",
              "       [0., 0.],\n",
              "       [0., 0.],\n",
              "       [0., 0.],\n",
              "       [0., 0.]])"
            ]
          },
          "metadata": {},
          "execution_count": 23
        }
      ]
    },
    {
      "cell_type": "code",
      "source": [
        "np.arange(10, 100, 10)  # start stop step"
      ],
      "metadata": {
        "colab": {
          "base_uri": "https://localhost:8080/"
        },
        "id": "X6lNMaYXo-aT",
        "outputId": "f03ef3fd-ff4c-4612-b970-b7dddfb9a0b6"
      },
      "execution_count": null,
      "outputs": [
        {
          "output_type": "execute_result",
          "data": {
            "text/plain": [
              "array([10, 20, 30, 40, 50, 60, 70, 80, 90])"
            ]
          },
          "metadata": {},
          "execution_count": 24
        }
      ]
    },
    {
      "cell_type": "code",
      "source": [
        "np.linspace(10, 100, 5)"
      ],
      "metadata": {
        "colab": {
          "base_uri": "https://localhost:8080/"
        },
        "id": "umM4uCC1pOPg",
        "outputId": "87787c2e-9464-468d-9b18-dfd734c7f27a"
      },
      "execution_count": null,
      "outputs": [
        {
          "output_type": "execute_result",
          "data": {
            "text/plain": [
              "array([ 10. ,  32.5,  55. ,  77.5, 100. ])"
            ]
          },
          "metadata": {},
          "execution_count": 25
        }
      ]
    },
    {
      "cell_type": "code",
      "source": [
        "np.identity(10)"
      ],
      "metadata": {
        "colab": {
          "base_uri": "https://localhost:8080/"
        },
        "id": "nxNSBCJIp_1u",
        "outputId": "96198202-bd8c-4712-b7b4-c97bed112147"
      },
      "execution_count": null,
      "outputs": [
        {
          "output_type": "execute_result",
          "data": {
            "text/plain": [
              "array([[1., 0., 0., 0., 0., 0., 0., 0., 0., 0.],\n",
              "       [0., 1., 0., 0., 0., 0., 0., 0., 0., 0.],\n",
              "       [0., 0., 1., 0., 0., 0., 0., 0., 0., 0.],\n",
              "       [0., 0., 0., 1., 0., 0., 0., 0., 0., 0.],\n",
              "       [0., 0., 0., 0., 1., 0., 0., 0., 0., 0.],\n",
              "       [0., 0., 0., 0., 0., 1., 0., 0., 0., 0.],\n",
              "       [0., 0., 0., 0., 0., 0., 1., 0., 0., 0.],\n",
              "       [0., 0., 0., 0., 0., 0., 0., 1., 0., 0.],\n",
              "       [0., 0., 0., 0., 0., 0., 0., 0., 1., 0.],\n",
              "       [0., 0., 0., 0., 0., 0., 0., 0., 0., 1.]])"
            ]
          },
          "metadata": {},
          "execution_count": 27
        }
      ]
    },
    {
      "cell_type": "markdown",
      "source": [
        "###Creating an array of structured objects"
      ],
      "metadata": {
        "id": "ozD0HpaRpc_n"
      }
    },
    {
      "cell_type": "code",
      "source": [
        "dt = np.dtype([('name', 'U10'), ('age', 'i4'), ('score', 'f4')])\n",
        "arr = np.array([('Alice', 25, 85.5), ('Bob', 30, 92.3)], dtype=dt)\n",
        "\n",
        "print(arr['name'])  # Output: ['Alice' 'Bob']\n",
        "print(arr.dtype)\n",
        "# Output: [('name', '<U10'), ('age', '<i4'), ('score', '<f4')]\n"
      ],
      "metadata": {
        "colab": {
          "base_uri": "https://localhost:8080/"
        },
        "id": "cQkfZIDnpIK5",
        "outputId": "0851cae1-444d-4f65-a62e-27c3acdddf8f"
      },
      "execution_count": null,
      "outputs": [
        {
          "output_type": "stream",
          "name": "stdout",
          "text": [
            "['Alice' 'Bob']\n",
            "[('name', '<U10'), ('age', '<i4'), ('score', '<f4')]\n"
          ]
        }
      ]
    },
    {
      "cell_type": "markdown",
      "source": [
        "###Converting the type of an array"
      ],
      "metadata": {
        "id": "n_x0165Zq6Pe"
      }
    },
    {
      "cell_type": "code",
      "source": [
        "arr = np.array([1.5, 2.3, 3.7])\n",
        "int_arr = arr.astype(np.int32)  # Converts float to integer\n",
        "print(int_arr)  # Output: [1 2 3]\n"
      ],
      "metadata": {
        "colab": {
          "base_uri": "https://localhost:8080/"
        },
        "id": "-AfPAl3gpjfk",
        "outputId": "4e2bc8f3-3a43-4233-8ec5-91e7574f1ecb"
      },
      "execution_count": null,
      "outputs": [
        {
          "output_type": "stream",
          "name": "stdout",
          "text": [
            "[1 2 3]\n"
          ]
        }
      ]
    },
    {
      "cell_type": "markdown",
      "source": [
        "###Creating arrays with Random inputs\n"
      ],
      "metadata": {
        "id": "cZ6CxN3hMilR"
      }
    },
    {
      "cell_type": "code",
      "source": [
        "from numpy.random import default_rng"
      ],
      "metadata": {
        "id": "Hd8DDHkorA9u"
      },
      "execution_count": null,
      "outputs": []
    },
    {
      "cell_type": "code",
      "source": [
        "rng = default_rng(12345)\n",
        "random_array = rng.random(10)\n",
        "random_array"
      ],
      "metadata": {
        "id": "NqSSnwfLMuQE",
        "outputId": "4e31ac65-b533-4c9c-bcee-f7ffede0fe52",
        "colab": {
          "base_uri": "https://localhost:8080/"
        }
      },
      "execution_count": null,
      "outputs": [
        {
          "output_type": "execute_result",
          "data": {
            "text/plain": [
              "array([0.22733602, 0.31675834, 0.79736546, 0.67625467, 0.39110955,\n",
              "       0.33281393, 0.59830875, 0.18673419, 0.67275604, 0.94180287])"
            ]
          },
          "metadata": {},
          "execution_count": 2
        }
      ]
    },
    {
      "cell_type": "code",
      "source": [
        "mean, stddev = 5, 1\n",
        "random_normal = rng.normal(mean, stddev, size=10)\n",
        "random_normal"
      ],
      "metadata": {
        "id": "AhpbNaL-NBTy",
        "outputId": "be269daf-f6e3-4798-825c-791fbfa0cf76",
        "colab": {
          "base_uri": "https://localhost:8080/"
        }
      },
      "execution_count": null,
      "outputs": [
        {
          "output_type": "execute_result",
          "data": {
            "text/plain": [
              "array([7.34740965, 5.96849691, 4.24061282, 5.90219827, 4.53304683,\n",
              "       4.93931048, 5.78884434, 3.74333187, 5.57585751, 6.39897899])"
            ]
          },
          "metadata": {},
          "execution_count": 5
        }
      ]
    },
    {
      "cell_type": "code",
      "source": [
        "import matplotlib.pyplot as plt\n"
      ],
      "metadata": {
        "id": "8bSd1XNpNgEV"
      },
      "execution_count": null,
      "outputs": []
    },
    {
      "cell_type": "code",
      "source": [
        "plt.scatter(rng.integers(1,9, 10), range(0, 10), color='red')"
      ],
      "metadata": {
        "id": "R6qZQi1WNt7p",
        "outputId": "81c3fe9a-fe6a-4865-fa76-7e28453ce589",
        "colab": {
          "base_uri": "https://localhost:8080/",
          "height": 448
        }
      },
      "execution_count": null,
      "outputs": [
        {
          "output_type": "execute_result",
          "data": {
            "text/plain": [
              "<matplotlib.collections.PathCollection at 0x7bc244313550>"
            ]
          },
          "metadata": {},
          "execution_count": 16
        },
        {
          "output_type": "display_data",
          "data": {
            "text/plain": [
              "<Figure size 640x480 with 1 Axes>"
            ],
            "image/png": "[encoded data removed]"
          },
          "metadata": {}
        }
      ]
    },
    {
      "cell_type": "code",
      "source": [
        "my_array = np.linspace(10,100,10).reshape(5, 2)\n",
        "my_array"
      ],
      "metadata": {
        "id": "Dq7JHaKVN7sW",
        "outputId": "35cfdcf9-ea34-4580-d642-a296be8cb6a6",
        "colab": {
          "base_uri": "https://localhost:8080/"
        }
      },
      "execution_count": null,
      "outputs": [
        {
          "output_type": "execute_result",
          "data": {
            "text/plain": [
              "array([[ 10.,  20.],\n",
              "       [ 30.,  40.],\n",
              "       [ 50.,  60.],\n",
              "       [ 70.,  80.],\n",
              "       [ 90., 100.]])"
            ]
          },
          "metadata": {},
          "execution_count": 22
        }
      ]
    },
    {
      "cell_type": "markdown",
      "source": [
        "### Indexing and slicing an array"
      ],
      "metadata": {
        "id": "_jSOPtOpQGwB"
      }
    },
    {
      "cell_type": "code",
      "source": [
        "my_array[2,1]"
      ],
      "metadata": {
        "id": "nsNyg6L7PhUO",
        "outputId": "fef65ed3-6656-466a-d0db-393522752fe0",
        "colab": {
          "base_uri": "https://localhost:8080/"
        }
      },
      "execution_count": null,
      "outputs": [
        {
          "output_type": "execute_result",
          "data": {
            "text/plain": [
              "60.0"
            ]
          },
          "metadata": {},
          "execution_count": 24
        }
      ]
    },
    {
      "cell_type": "code",
      "source": [
        "my_array[-1, 0]"
      ],
      "metadata": {
        "id": "fcGBirNsQM6v",
        "outputId": "4129d90d-e4cf-4a2f-a97b-51f706b628c0",
        "colab": {
          "base_uri": "https://localhost:8080/"
        }
      },
      "execution_count": null,
      "outputs": [
        {
          "output_type": "execute_result",
          "data": {
            "text/plain": [
              "90.0"
            ]
          },
          "metadata": {},
          "execution_count": 25
        }
      ]
    },
    {
      "cell_type": "code",
      "source": [
        "my_array[1::2,1::2]"
      ],
      "metadata": {
        "id": "fmlGriy6QUN2",
        "outputId": "508dc0aa-19e2-4bb5-bebe-b8e432d940aa",
        "colab": {
          "base_uri": "https://localhost:8080/"
        }
      },
      "execution_count": null,
      "outputs": [
        {
          "output_type": "execute_result",
          "data": {
            "text/plain": [
              "array([[40.],\n",
              "       [80.]])"
            ]
          },
          "metadata": {},
          "execution_count": 31
        }
      ]
    },
    {
      "cell_type": "markdown",
      "source": [
        "### Array Operations (Vectorization)"
      ],
      "metadata": {
        "id": "EYYQzvC7SHBt"
      }
    },
    {
      "cell_type": "code",
      "source": [
        "my_array"
      ],
      "metadata": {
        "id": "mLYsVaPYQcAC",
        "outputId": "9de6f80f-b0f8-4c3f-b895-3b857ed15855",
        "colab": {
          "base_uri": "https://localhost:8080/"
        }
      },
      "execution_count": null,
      "outputs": [
        {
          "output_type": "execute_result",
          "data": {
            "text/plain": [
              "array([[ 10.,  20.],\n",
              "       [ 30.,  40.],\n",
              "       [ 50.,  60.],\n",
              "       [ 70.,  80.],\n",
              "       [ 90., 100.]])"
            ]
          },
          "metadata": {},
          "execution_count": 32
        }
      ]
    },
    {
      "cell_type": "code",
      "source": [
        "my_array + 2"
      ],
      "metadata": {
        "id": "t3BKtZd5SNkm",
        "outputId": "5b633081-a127-4ac9-c0ba-039c43cbbdbb",
        "colab": {
          "base_uri": "https://localhost:8080/"
        }
      },
      "execution_count": null,
      "outputs": [
        {
          "output_type": "execute_result",
          "data": {
            "text/plain": [
              "array([[ 12.,  22.],\n",
              "       [ 32.,  42.],\n",
              "       [ 52.,  62.],\n",
              "       [ 72.,  82.],\n",
              "       [ 92., 102.]])"
            ]
          },
          "metadata": {},
          "execution_count": 33
        }
      ]
    },
    {
      "cell_type": "markdown",
      "source": [
        "###Filtering an Array\n"
      ],
      "metadata": {
        "id": "fheQ0BchUuaf"
      }
    },
    {
      "cell_type": "code",
      "source": [
        "sales = [[10, 21, 30, 41, 50],[51, 71, 80, 91, 100]]\n",
        "sales_array = np.array(sales)\n",
        "sales_array"
      ],
      "metadata": {
        "id": "9EozCFXnSRYv",
        "outputId": "3801798b-4946-483c-8c0c-f3d7abcf1855",
        "colab": {
          "base_uri": "https://localhost:8080/"
        }
      },
      "execution_count": null,
      "outputs": [
        {
          "output_type": "execute_result",
          "data": {
            "text/plain": [
              "array([[ 10,  21,  30,  41,  50],\n",
              "       [ 51,  71,  80,  91, 100]])"
            ]
          },
          "metadata": {},
          "execution_count": 38
        }
      ]
    },
    {
      "cell_type": "code",
      "source": [
        "sales_array % 5 != 0"
      ],
      "metadata": {
        "id": "K7Hwn-BZUzi_",
        "outputId": "e6a7b0f9-6233-4add-c6ff-1e90ef4efd18",
        "colab": {
          "base_uri": "https://localhost:8080/"
        }
      },
      "execution_count": null,
      "outputs": [
        {
          "output_type": "execute_result",
          "data": {
            "text/plain": [
              "array([[False,  True, False,  True, False],\n",
              "       [ True,  True, False,  True, False]])"
            ]
          },
          "metadata": {},
          "execution_count": 39
        }
      ]
    },
    {
      "cell_type": "code",
      "source": [
        "sales_array[sales_array % 5 != 0]"
      ],
      "metadata": {
        "id": "utLBtDRYVHJL",
        "outputId": "a1a261bc-7fdc-4a86-c77a-08322852f4bc",
        "colab": {
          "base_uri": "https://localhost:8080/"
        }
      },
      "execution_count": null,
      "outputs": [
        {
          "output_type": "execute_result",
          "data": {
            "text/plain": [
              "array([21, 41, 51, 71, 91])"
            ]
          },
          "metadata": {},
          "execution_count": 42
        }
      ]
    },
    {
      "cell_type": "code",
      "source": [
        "sales_array[(sales_array > 30) & (sales_array < 70)]"
      ],
      "metadata": {
        "id": "NJz4CBNLVls3",
        "outputId": "30c18977-fdad-40ac-af25-20e6ae3e54b5",
        "colab": {
          "base_uri": "https://localhost:8080/"
        }
      },
      "execution_count": null,
      "outputs": [
        {
          "output_type": "execute_result",
          "data": {
            "text/plain": [
              "array([41, 50, 51])"
            ]
          },
          "metadata": {},
          "execution_count": 44
        }
      ]
    },
    {
      "cell_type": "code",
      "source": [
        "qty = [10, 20, 30, 40, 50]\n",
        "rate = [8, 6, 4, 2, 1]\n",
        "qty_array = np.array(qty)\n",
        "rate_array = np.array(rate)\n",
        "qty_array * rate_array"
      ],
      "metadata": {
        "id": "W6d_E4vlV28V",
        "outputId": "3e3af2c4-ed3e-4af4-ffe2-c81cdbf89ba9",
        "colab": {
          "base_uri": "https://localhost:8080/"
        }
      },
      "execution_count": null,
      "outputs": [
        {
          "output_type": "execute_result",
          "data": {
            "text/plain": [
              "array([ 80, 120, 120,  80,  50])"
            ]
          },
          "metadata": {},
          "execution_count": 45
        }
      ]
    },
    {
      "cell_type": "code",
      "source": [
        "products = [\"Eggs\",\"Cucumber\", \"Rice\", \"Cereal\", \"Oil\"]\n",
        "prod_array = np.array(products)\n",
        "\n",
        "# find out all products whose rate is < 5\n",
        "prod_array[rate_array < 5]"
      ],
      "metadata": {
        "id": "pp1zlCR3Yd52",
        "outputId": "70798f51-f39d-4b67-ae34-7e7ee6bbce35",
        "colab": {
          "base_uri": "https://localhost:8080/"
        }
      },
      "execution_count": null,
      "outputs": [
        {
          "output_type": "execute_result",
          "data": {
            "text/plain": [
              "array(['Rice', 'Cereal', 'Oil'], dtype='<U8')"
            ]
          },
          "metadata": {},
          "execution_count": 47
        }
      ]
    },
    {
      "cell_type": "markdown",
      "source": [
        "###Using the where function"
      ],
      "metadata": {
        "id": "3FbLmhsTaTMy"
      }
    },
    {
      "cell_type": "code",
      "source": [
        "qty_array"
      ],
      "metadata": {
        "id": "vYCPIg15Y-vw",
        "outputId": "757680bd-3c30-4156-bcb8-ddea4b8eb5f3",
        "colab": {
          "base_uri": "https://localhost:8080/"
        }
      },
      "execution_count": null,
      "outputs": [
        {
          "output_type": "execute_result",
          "data": {
            "text/plain": [
              "array([10, 20, 30, 40, 50])"
            ]
          },
          "metadata": {},
          "execution_count": 49
        }
      ]
    },
    {
      "cell_type": "code",
      "source": [
        "np.where(qty_array < 30, \"Out of Stock\", \"In Stock\")"
      ],
      "metadata": {
        "id": "jRMuDkAdagJU",
        "outputId": "a68a0ff7-fd16-43e2-f05d-09304bdf4d1e",
        "colab": {
          "base_uri": "https://localhost:8080/"
        }
      },
      "execution_count": null,
      "outputs": [
        {
          "output_type": "execute_result",
          "data": {
            "text/plain": [
              "array(['Out of Stock', 'Out of Stock', 'In Stock', 'In Stock', 'In Stock'],\n",
              "      dtype='<U12')"
            ]
          },
          "metadata": {},
          "execution_count": 50
        }
      ]
    },
    {
      "cell_type": "code",
      "source": [
        "np.where(qty_array < 30, \"Out of Stock\", prod_array)"
      ],
      "metadata": {
        "id": "DHsMf7Jha_b-",
        "outputId": "2128c78e-57d9-44e2-e7e8-8c04b38d5a09",
        "colab": {
          "base_uri": "https://localhost:8080/"
        }
      },
      "execution_count": null,
      "outputs": [
        {
          "output_type": "execute_result",
          "data": {
            "text/plain": [
              "array(['Out of Stock', 'Out of Stock', 'Rice', 'Cereal', 'Oil'],\n",
              "      dtype='<U12')"
            ]
          },
          "metadata": {},
          "execution_count": 51
        }
      ]
    },
    {
      "cell_type": "code",
      "source": [],
      "metadata": {
        "id": "x5K8-zJ8briI"
      },
      "execution_count": null,
      "outputs": []
    }
  ]
}