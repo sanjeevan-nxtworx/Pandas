{
  "nbformat": 4,
  "nbformat_minor": 0,
  "metadata": {
    "colab": {
      "provenance": []
    },
    "kernelspec": {
      "name": "python3",
      "display_name": "Python 3"
    },
    "language_info": {
      "name": "python"
    }
  },
  "cells": [
    {
      "cell_type": "markdown",
      "source": [
        "### Creating a Series from a List"
      ],
      "metadata": {
        "id": "iW0UR_tN9OWj"
      }
    },
    {
      "cell_type": "code",
      "source": [
        "import pandas as pd"
      ],
      "metadata": {
        "id": "xA9k1TN59Vm0"
      },
      "execution_count": 2,
      "outputs": []
    },
    {
      "cell_type": "code",
      "source": [
        "# Creating a list\n",
        "data = [10, 20, 30, 40, 50]\n",
        "\n",
        "# Creating a Pandas Series\n",
        "series = pd.Series(data)\n",
        "\n",
        "# Display the Series\n",
        "print(series)\n"
      ],
      "metadata": {
        "colab": {
          "base_uri": "https://localhost:8080/"
        },
        "id": "r3O85FyZ9arO",
        "outputId": "e0291783-54ce-45d4-c6c1-05e6f2438f65"
      },
      "execution_count": 3,
      "outputs": [
        {
          "output_type": "stream",
          "name": "stdout",
          "text": [
            "0    10\n",
            "1    20\n",
            "2    30\n",
            "3    40\n",
            "4    50\n",
            "dtype: int64\n"
          ]
        }
      ]
    },
    {
      "cell_type": "markdown",
      "source": [
        "### Creating a Series with Custom Index"
      ],
      "metadata": {
        "id": "pjb8Z08V-zFK"
      }
    },
    {
      "cell_type": "code",
      "source": [
        "data = [100, 200, 300, 400]\n",
        "index = ['a', 'b', 'c', 'd']\n",
        "\n",
        "series = pd.Series(data, index=index)\n",
        "print(series)\n"
      ],
      "metadata": {
        "colab": {
          "base_uri": "https://localhost:8080/"
        },
        "id": "g3o4Ac_7-2Eh",
        "outputId": "b334e05a-d9e2-40e7-cc83-839808f91dd4"
      },
      "execution_count": 4,
      "outputs": [
        {
          "output_type": "stream",
          "name": "stdout",
          "text": [
            "a    100\n",
            "b    200\n",
            "c    300\n",
            "d    400\n",
            "dtype: int64\n"
          ]
        }
      ]
    },
    {
      "cell_type": "markdown",
      "source": [
        "### Creating a Series from a Dictionary"
      ],
      "metadata": {
        "id": "P7HmuE14_AKF"
      }
    },
    {
      "cell_type": "code",
      "source": [
        "# A dictionary’s keys become the index, and values become the Series values.\n",
        "data = {'Alice': 85, 'Bob': 90, 'Charlie': 95}\n",
        "\n",
        "series = pd.Series(data)\n",
        "print(series)\n"
      ],
      "metadata": {
        "colab": {
          "base_uri": "https://localhost:8080/"
        },
        "id": "uPKBAqm2-4yH",
        "outputId": "b97e32a5-b0ef-4166-dd86-49cbf8bec864"
      },
      "execution_count": 5,
      "outputs": [
        {
          "output_type": "stream",
          "name": "stdout",
          "text": [
            "Alice      85\n",
            "Bob        90\n",
            "Charlie    95\n",
            "dtype: int64\n"
          ]
        }
      ]
    },
    {
      "cell_type": "markdown",
      "source": [
        "### Creating a Series with a Scalar Value"
      ],
      "metadata": {
        "id": "Srwj1xju_oNg"
      }
    },
    {
      "cell_type": "code",
      "source": [
        "#A scalar value will be repeated for the given index labels.\n",
        "series = pd.Series(5, index=['a', 'b', 'c', 'd'])\n",
        "print(series)\n"
      ],
      "metadata": {
        "colab": {
          "base_uri": "https://localhost:8080/"
        },
        "id": "vXDSlgX1_I21",
        "outputId": "61be7242-050d-43b0-9e62-291457dc15c1"
      },
      "execution_count": 6,
      "outputs": [
        {
          "output_type": "stream",
          "name": "stdout",
          "text": [
            "a    5\n",
            "b    5\n",
            "c    5\n",
            "d    5\n",
            "dtype: int64\n"
          ]
        }
      ]
    },
    {
      "cell_type": "markdown",
      "source": [
        "### Creating a Series from a NumPy Array"
      ],
      "metadata": {
        "id": "wkpyHqnI_yu2"
      }
    },
    {
      "cell_type": "code",
      "source": [
        "import numpy as np\n"
      ],
      "metadata": {
        "id": "x0saQr-P_0VX"
      },
      "execution_count": 7,
      "outputs": []
    },
    {
      "cell_type": "code",
      "source": [
        "array = np.array([1, 2, 3, 4, 5])\n",
        "series = pd.Series(array)\n",
        "\n",
        "print(series)"
      ],
      "metadata": {
        "colab": {
          "base_uri": "https://localhost:8080/"
        },
        "id": "RcE2zh9t_5JW",
        "outputId": "89601d25-cf81-4d58-fef9-228cbbb65084"
      },
      "execution_count": 8,
      "outputs": [
        {
          "output_type": "stream",
          "name": "stdout",
          "text": [
            "0    1\n",
            "1    2\n",
            "2    3\n",
            "3    4\n",
            "4    5\n",
            "dtype: int64\n"
          ]
        }
      ]
    },
    {
      "cell_type": "markdown",
      "source": [
        "### **Properties of a Pandas Series**"
      ],
      "metadata": {
        "id": "6fIl4Yl6AmIt"
      }
    },
    {
      "cell_type": "markdown",
      "source": [
        "###dtype (Data Type)"
      ],
      "metadata": {
        "id": "qKfX4wFKAw2V"
      }
    },
    {
      "cell_type": "code",
      "source": [
        "# Returns the data type of the elements in the Series.\n",
        "\n",
        "\n",
        "s = pd.Series([10., 20., 30., 40.])\n",
        "print(s.dtype)\n"
      ],
      "metadata": {
        "colab": {
          "base_uri": "https://localhost:8080/"
        },
        "id": "0A7HN09d_5x7",
        "outputId": "a60ac848-4eff-4087-c4f6-4cbc13c8ec65"
      },
      "execution_count": 10,
      "outputs": [
        {
          "output_type": "stream",
          "name": "stdout",
          "text": [
            "float64\n"
          ]
        }
      ]
    },
    {
      "cell_type": "markdown",
      "source": [
        "###shape (Size of the Series)"
      ],
      "metadata": {
        "id": "bVasJSq3BMjU"
      }
    },
    {
      "cell_type": "code",
      "source": [
        "#Returns the shape of the Series as a tuple (rows,).\n",
        "print(s.shape)\n"
      ],
      "metadata": {
        "colab": {
          "base_uri": "https://localhost:8080/"
        },
        "id": "-SH2PzdKA7-0",
        "outputId": "1cf6b3bd-566a-48e0-c934-623ab8f2e507"
      },
      "execution_count": 11,
      "outputs": [
        {
          "output_type": "stream",
          "name": "stdout",
          "text": [
            "(4,)\n"
          ]
        }
      ]
    },
    {
      "cell_type": "markdown",
      "source": [
        "### size (Total Number of Elements)"
      ],
      "metadata": {
        "id": "kuCOVqXICAM1"
      }
    },
    {
      "cell_type": "code",
      "source": [
        "#Returns the total number of elements in the Series (similar to len(series)).\n",
        "print(s.size)\n"
      ],
      "metadata": {
        "colab": {
          "base_uri": "https://localhost:8080/"
        },
        "id": "HnFIsE7zBy5O",
        "outputId": "cd3576fa-65f7-4df6-bdc9-c180fc5a2de3"
      },
      "execution_count": 12,
      "outputs": [
        {
          "output_type": "stream",
          "name": "stdout",
          "text": [
            "4\n"
          ]
        }
      ]
    },
    {
      "cell_type": "markdown",
      "source": [
        "###index (Index Labels)"
      ],
      "metadata": {
        "id": "h9BAEq4RCJAw"
      }
    },
    {
      "cell_type": "code",
      "source": [
        "#Returns the index labels of the Series.\n",
        "print(s.index)\n"
      ],
      "metadata": {
        "colab": {
          "base_uri": "https://localhost:8080/"
        },
        "id": "pqEdJOuuCGVB",
        "outputId": "bc8955b8-a739-48f5-a2a9-bf607da9f03f"
      },
      "execution_count": 13,
      "outputs": [
        {
          "output_type": "stream",
          "name": "stdout",
          "text": [
            "RangeIndex(start=0, stop=4, step=1)\n"
          ]
        }
      ]
    },
    {
      "cell_type": "markdown",
      "source": [
        "###values (Underlying Data as NumPy Array)"
      ],
      "metadata": {
        "id": "TbQq66ehCVJR"
      }
    },
    {
      "cell_type": "code",
      "source": [
        "#Returns the values in the Series as a NumPy array.\n",
        "print(s.values)\n"
      ],
      "metadata": {
        "colab": {
          "base_uri": "https://localhost:8080/"
        },
        "id": "vgG9VziLCM-i",
        "outputId": "1266bdb7-9097-4380-9bae-933fa232b0a8"
      },
      "execution_count": 14,
      "outputs": [
        {
          "output_type": "stream",
          "name": "stdout",
          "text": [
            "[10. 20. 30. 40.]\n"
          ]
        }
      ]
    },
    {
      "cell_type": "markdown",
      "source": [
        "###name (Name of the Series)"
      ],
      "metadata": {
        "id": "QzrJYwqUCmOx"
      }
    },
    {
      "cell_type": "code",
      "source": [
        "#Assigns or retrieves the name of the Series.\n",
        "s.name = \"Numbers\"\n",
        "print(s.name)\n"
      ],
      "metadata": {
        "colab": {
          "base_uri": "https://localhost:8080/"
        },
        "id": "-3Hl127YCaI3",
        "outputId": "40eae56c-2336-4180-eac9-00a0946982e2"
      },
      "execution_count": 15,
      "outputs": [
        {
          "output_type": "stream",
          "name": "stdout",
          "text": [
            "Numbers\n"
          ]
        }
      ]
    },
    {
      "cell_type": "markdown",
      "source": [
        "###empty (Check if the Series is Empty)"
      ],
      "metadata": {
        "id": "TYGkkTuDC1ak"
      }
    },
    {
      "cell_type": "code",
      "source": [
        "#Returns True if the Series is empty, otherwise False.\n",
        "s_empty = pd.Series([])\n",
        "print(s_empty.empty)\n"
      ],
      "metadata": {
        "colab": {
          "base_uri": "https://localhost:8080/"
        },
        "id": "ffK9hT4jCs_0",
        "outputId": "cb2c3ac7-f2d4-4534-88cc-8e93f726677a"
      },
      "execution_count": 16,
      "outputs": [
        {
          "output_type": "stream",
          "name": "stdout",
          "text": [
            "True\n"
          ]
        }
      ]
    },
    {
      "cell_type": "markdown",
      "source": [
        "###. hasnans (Check if the Series Contains NaN Values)"
      ],
      "metadata": {
        "id": "WoR4jS6HDAAf"
      }
    },
    {
      "cell_type": "code",
      "source": [
        "#Returns True if there are NaN (missing) values in the Series.\n",
        "s_nan = pd.Series([1, 2, None, 4])\n",
        "print(s_nan.hasnans)\n"
      ],
      "metadata": {
        "colab": {
          "base_uri": "https://localhost:8080/"
        },
        "id": "OJ3JSGkHC7FQ",
        "outputId": "65067717-7745-4b12-a22f-c93703408142"
      },
      "execution_count": 17,
      "outputs": [
        {
          "output_type": "stream",
          "name": "stdout",
          "text": [
            "True\n"
          ]
        }
      ]
    },
    {
      "cell_type": "markdown",
      "source": [
        "###unique() (Get Unique Values)"
      ],
      "metadata": {
        "id": "FPdEESwmDIhX"
      }
    },
    {
      "cell_type": "code",
      "source": [
        "#Returns the unique elements in the Series.\n",
        "s_dup = pd.Series([1, 2, 2, 3, 4, 4])\n",
        "print(s_dup.unique())\n"
      ],
      "metadata": {
        "colab": {
          "base_uri": "https://localhost:8080/"
        },
        "id": "bKkIAK82DEJq",
        "outputId": "190d3a41-6fe7-4e52-a1d9-6abcd19f2e13"
      },
      "execution_count": 18,
      "outputs": [
        {
          "output_type": "stream",
          "name": "stdout",
          "text": [
            "[1 2 3 4]\n"
          ]
        }
      ]
    },
    {
      "cell_type": "markdown",
      "source": [
        "###nunique() (Count Unique Values)"
      ],
      "metadata": {
        "id": "zUBgP8IADSJH"
      }
    },
    {
      "cell_type": "code",
      "source": [
        "#Returns the number of unique elements in the Series.\n",
        "s_dup = pd.Series([1, 2, 2, 3, 4, 4])\n",
        "print(s_dup.nunique())\n"
      ],
      "metadata": {
        "colab": {
          "base_uri": "https://localhost:8080/"
        },
        "id": "8puXWH-HDMwX",
        "outputId": "30e6ae47-79cd-4735-a1f3-a3b9bb7c037f"
      },
      "execution_count": 23,
      "outputs": [
        {
          "output_type": "stream",
          "name": "stdout",
          "text": [
            "4\n"
          ]
        }
      ]
    },
    {
      "cell_type": "markdown",
      "source": [
        "###count() (Count Non-NaN Values)"
      ],
      "metadata": {
        "id": "BoaDOPMQDcwn"
      }
    },
    {
      "cell_type": "code",
      "source": [
        "#Counts the number of non-null values in the Series.\n",
        "s_nan = pd.Series([1, 2, None, 4])\n",
        "print(s_nan.count())\n"
      ],
      "metadata": {
        "colab": {
          "base_uri": "https://localhost:8080/"
        },
        "id": "dEt4_HqGDVu9",
        "outputId": "71e29acc-b888-4be3-92ef-6d7fc83530af"
      },
      "execution_count": 24,
      "outputs": [
        {
          "output_type": "stream",
          "name": "stdout",
          "text": [
            "3\n"
          ]
        }
      ]
    },
    {
      "cell_type": "markdown",
      "source": [
        "###describe() (Summary Statistics)"
      ],
      "metadata": {
        "id": "I8P2FoyjDrur"
      }
    },
    {
      "cell_type": "code",
      "source": [
        "#Returns statistical information about a numerical Series.\n",
        "\n",
        "s = pd.Series([10., 20., 30., 40.])\n",
        "print(s.describe())\n"
      ],
      "metadata": {
        "colab": {
          "base_uri": "https://localhost:8080/"
        },
        "id": "DxeNTcxYDkyG",
        "outputId": "d61e6326-f609-462a-c3da-c27e5e8be2e4"
      },
      "execution_count": 25,
      "outputs": [
        {
          "output_type": "stream",
          "name": "stdout",
          "text": [
            "count     4.000000\n",
            "mean     25.000000\n",
            "std      12.909944\n",
            "min      10.000000\n",
            "25%      17.500000\n",
            "50%      25.000000\n",
            "75%      32.500000\n",
            "max      40.000000\n",
            "dtype: float64\n"
          ]
        }
      ]
    },
    {
      "cell_type": "code",
      "source": [],
      "metadata": {
        "id": "CqNO39jqDyXX"
      },
      "execution_count": null,
      "outputs": []
    }
  ]
}