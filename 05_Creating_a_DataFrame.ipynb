{
  "nbformat": 4,
  "nbformat_minor": 0,
  "metadata": {
    "colab": {
      "provenance": [],
      "toc_visible": true,
      "authorship_tag": "ABX9TyM/3n13H7Il+13mvtCDI/KG",
      "include_colab_link": true
    },
    "kernelspec": {
      "name": "python3",
      "display_name": "Python 3"
    },
    "language_info": {
      "name": "python"
    }
  },
  "cells": [
    {
      "cell_type": "markdown",
      "metadata": {
        "id": "view-in-github",
        "colab_type": "text"
      },
      "source": [
        "<a href=\"https://colab.research.google.com/github/sanjeevan-nxtworx/Pandas/blob/main/05_Creating_a_DataFrame.ipynb\" target=\"_parent\"><img src=\"https://colab.research.google.com/assets/colab-badge.svg\" alt=\"Open In Colab\"/></a>"
      ]
    },
    {
      "cell_type": "markdown",
      "source": [
        "###**Creating a Pandas Data Frame**"
      ],
      "metadata": {
        "id": "CiwbaFowz13n"
      }
    },
    {
      "cell_type": "code",
      "source": [
        "import pandas as pd"
      ],
      "metadata": {
        "id": "PDERkNz00TRT"
      },
      "execution_count": null,
      "outputs": []
    },
    {
      "cell_type": "markdown",
      "source": [
        "###Using a Python Dictionary"
      ],
      "metadata": {
        "id": "mQSjvtc30HFt"
      }
    },
    {
      "cell_type": "code",
      "source": [
        "# Creating a dictionary\n",
        "data = {\n",
        "    \"Country\": [\"USA\", \"Canada\", \"UK\", \"Germany\", \"France\", \"Japan\", \"India\", \"Australia\", \"Brazil\", \"Russia\"],\n",
        "    \"City\": [\"New York\", \"Toronto\", \"London\", \"Berlin\", \"Paris\", \"Tokyo\", \"Mumbai\", \"Sydney\", \"São Paulo\", \"Moscow\"],\n",
        "    \"Population\": [8419600, 2930000, 8982000, 3769000, 2148000, 13929000, 12691836, 5312000, 12330000, 11920000]\n",
        "}\n",
        "\n",
        "# Converting dictionary to DataFrame\n",
        "df = pd.DataFrame(data)\n"
      ],
      "metadata": {
        "id": "qXNykbh60KWT"
      },
      "execution_count": null,
      "outputs": []
    },
    {
      "cell_type": "code",
      "source": [
        "print (df)"
      ],
      "metadata": {
        "colab": {
          "base_uri": "https://localhost:8080/"
        },
        "id": "ZVw9U86l0Y0L",
        "outputId": "d462321a-deb5-4c80-b04c-6fdec998e891"
      },
      "execution_count": null,
      "outputs": [
        {
          "output_type": "stream",
          "name": "stdout",
          "text": [
            "     Country       City  Population\n",
            "0        USA   New York     8419600\n",
            "1     Canada    Toronto     2930000\n",
            "2         UK     London     8982000\n",
            "3    Germany     Berlin     3769000\n",
            "4     France      Paris     2148000\n",
            "5      Japan      Tokyo    13929000\n",
            "6      India     Mumbai    12691836\n",
            "7  Australia     Sydney     5312000\n",
            "8     Brazil  São Paulo    12330000\n",
            "9     Russia     Moscow    11920000\n"
          ]
        }
      ]
    },
    {
      "cell_type": "markdown",
      "source": [
        "### Creating a DF using a list of lists"
      ],
      "metadata": {
        "id": "BwCf2SxF3slp"
      }
    },
    {
      "cell_type": "code",
      "source": [
        "# Creating a list of lists\n",
        "data = [\n",
        "    [\"USA\", \"New York\", 8419600],\n",
        "    [\"Canada\", \"Toronto\", 2930000],\n",
        "    [\"UK\", \"London\", 8982000],\n",
        "    [\"Germany\", \"Berlin\", 3769000],\n",
        "    [\"France\", \"Paris\", 2148000],\n",
        "    [\"Japan\", \"Tokyo\", 13929000],\n",
        "    [\"India\", \"Mumbai\", 12691836],\n",
        "    [\"Australia\", \"Sydney\", 5312000],\n",
        "    [\"Brazil\", \"São Paulo\", 12330000],\n",
        "    [\"Russia\", \"Moscow\", 11920000]\n",
        "]\n",
        "\n",
        "# Creating a DataFrame with column names\n",
        "df = pd.DataFrame(data, columns=['Country', 'City', 'Population'])\n",
        "\n",
        "# Display the DataFrame\n",
        "print(df)\n"
      ],
      "metadata": {
        "colab": {
          "base_uri": "https://localhost:8080/"
        },
        "id": "-IPGUXc-2d15",
        "outputId": "ce7b0ae5-bcd4-4709-a555-2084baa2fc11"
      },
      "execution_count": null,
      "outputs": [
        {
          "output_type": "stream",
          "name": "stdout",
          "text": [
            "     Country       City  Population\n",
            "0        USA   New York     8419600\n",
            "1     Canada    Toronto     2930000\n",
            "2         UK     London     8982000\n",
            "3    Germany     Berlin     3769000\n",
            "4     France      Paris     2148000\n",
            "5      Japan      Tokyo    13929000\n",
            "6      India     Mumbai    12691836\n",
            "7  Australia     Sydney     5312000\n",
            "8     Brazil  São Paulo    12330000\n",
            "9     Russia     Moscow    11920000\n"
          ]
        }
      ]
    },
    {
      "cell_type": "markdown",
      "source": [
        "### Create a DF using a list of dictionaries"
      ],
      "metadata": {
        "id": "Agr3Ipb449Ac"
      }
    },
    {
      "cell_type": "code",
      "source": [
        "data_list_of_dicts = [\n",
        "    {\"Country\": \"USA\", \"City\": \"New York\", \"Population\": 8419600},\n",
        "    {\"Country\": \"Canada\", \"City\": \"Toronto\", \"Population\": 2930000},\n",
        "    {\"Country\": \"UK\", \"City\": \"London\", \"Population\": 8982000},\n",
        "    {\"Country\": \"Germany\", \"City\": \"Berlin\", \"Population\": 3769000},\n",
        "    {\"Country\": \"France\", \"City\": \"Paris\", \"Population\": 2148000},\n",
        "    {\"Country\": \"Japan\", \"City\": \"Tokyo\", \"Population\": 13929000},\n",
        "    {\"Country\": \"India\", \"City\": \"Mumbai\", \"Population\": 12691836},\n",
        "    {\"Country\": \"Australia\", \"City\": \"Sydney\", \"Population\": 5312000},\n",
        "    {\"Country\": \"Brazil\", \"City\": \"São Paulo\", \"Population\": 12330000},\n",
        "    {\"Country\": \"Russia\", \"City\": \"Moscow\", \"Population\": 11920000}\n",
        "]\n",
        "\n",
        "# Display the list of dictionaries\n",
        "print(data_list_of_dicts)\n",
        "df = pd.DataFrame(data_list_of_dicts)\n",
        "print(df)"
      ],
      "metadata": {
        "colab": {
          "base_uri": "https://localhost:8080/",
          "height": 273
        },
        "id": "E4U3Q-bd34on",
        "outputId": "0646584c-89bf-45c3-d18c-8720fc9d20d2"
      },
      "execution_count": null,
      "outputs": [
        {
          "output_type": "stream",
          "name": "stdout",
          "text": [
            "[{'Country': 'USA', 'City': 'New York', 'Population': 8419600}, {'Country': 'Canada', 'City': 'Toronto', 'Population': 2930000}, {'Country': 'UK', 'City': 'London', 'Population': 8982000}, {'Country': 'Germany', 'City': 'Berlin', 'Population': 3769000}, {'Country': 'France', 'City': 'Paris', 'Population': 2148000}, {'Country': 'Japan', 'City': 'Tokyo', 'Population': 13929000}, {'Country': 'India', 'City': 'Mumbai', 'Population': 12691836}, {'Country': 'Australia', 'City': 'Sydney', 'Population': 5312000}, {'Country': 'Brazil', 'City': 'São Paulo', 'Population': 12330000}, {'Country': 'Russia', 'City': 'Moscow', 'Population': 11920000}]\n",
            "     Country       City  Population\n",
            "0        USA   New York     8419600\n",
            "1     Canada    Toronto     2930000\n",
            "2         UK     London     8982000\n",
            "3    Germany     Berlin     3769000\n",
            "4     France      Paris     2148000\n",
            "5      Japan      Tokyo    13929000\n",
            "6      India     Mumbai    12691836\n",
            "7  Australia     Sydney     5312000\n",
            "8     Brazil  São Paulo    12330000\n",
            "9     Russia     Moscow    11920000\n"
          ]
        },
        {
          "output_type": "execute_result",
          "data": {
            "text/plain": [
              "''"
            ],
            "application/vnd.google.colaboratory.intrinsic+json": {
              "type": "string"
            }
          },
          "metadata": {},
          "execution_count": 10
        }
      ]
    },
    {
      "cell_type": "markdown",
      "source": [
        "### Creating a DataFrame from a Simple List (Single Column)"
      ],
      "metadata": {
        "id": "0ihW4g8i6DhR"
      }
    },
    {
      "cell_type": "code",
      "source": [
        "data = [10, 20, 30, 40, 50]\n",
        "\n",
        "df = pd.DataFrame(data, columns=['Numbers'])\n",
        "print(df)\n"
      ],
      "metadata": {
        "colab": {
          "base_uri": "https://localhost:8080/"
        },
        "id": "wSRTrd_p6GHN",
        "outputId": "05de3275-9cef-4d0f-d8a0-28ea78606f23"
      },
      "execution_count": null,
      "outputs": [
        {
          "output_type": "stream",
          "name": "stdout",
          "text": [
            "   Numbers\n",
            "0       10\n",
            "1       20\n",
            "2       30\n",
            "3       40\n",
            "4       50\n"
          ]
        }
      ]
    },
    {
      "cell_type": "code",
      "source": [],
      "metadata": {
        "id": "bjmuCle06KYs"
      },
      "execution_count": null,
      "outputs": []
    },
    {
      "cell_type": "markdown",
      "source": [
        "### Creating a DataFrame with Custom Index"
      ],
      "metadata": {
        "id": "Wntl3vJs6SLI"
      }
    },
    {
      "cell_type": "code",
      "source": [
        "data = [['Alice', 25], ['Bob', 30], ['Charlie', 35]]\n",
        "df = pd.DataFrame(data, columns=['Name', 'Age'], index=['A', 'B', 'C'])\n",
        "print(df)\n"
      ],
      "metadata": {
        "colab": {
          "base_uri": "https://localhost:8080/"
        },
        "id": "sUkReJns6WE0",
        "outputId": "25f5e240-24b6-473b-f734-e285c4ee61ab"
      },
      "execution_count": null,
      "outputs": [
        {
          "output_type": "stream",
          "name": "stdout",
          "text": [
            "      Name  Age\n",
            "A    Alice   25\n",
            "B      Bob   30\n",
            "C  Charlie   35\n"
          ]
        }
      ]
    },
    {
      "cell_type": "code",
      "source": [],
      "metadata": {
        "id": "VapQ_4Bg6aAg"
      },
      "execution_count": null,
      "outputs": []
    }
  ]
}