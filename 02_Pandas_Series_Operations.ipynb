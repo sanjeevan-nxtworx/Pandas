{
  "nbformat": 4,
  "nbformat_minor": 0,
  "metadata": {
    "colab": {
      "provenance": [],
      "authorship_tag": "ABX9TyOX65YHlQk3kEhAsFThRkXF",
      "include_colab_link": true
    },
    "kernelspec": {
      "name": "python3",
      "display_name": "Python 3"
    },
    "language_info": {
      "name": "python"
    }
  },
  "cells": [
    {
      "cell_type": "markdown",
      "metadata": {
        "id": "view-in-github",
        "colab_type": "text"
      },
      "source": [
        "<a href=\"https://colab.research.google.com/github/sanjeevan-nxtworx/Pandas/blob/main/02_Pandas_Series_Operations.ipynb\" target=\"_parent\"><img src=\"https://colab.research.google.com/assets/colab-badge.svg\" alt=\"Open In Colab\"/></a>"
      ]
    },
    {
      "cell_type": "code",
      "execution_count": 3,
      "metadata": {
        "id": "VPMU8_7xG-mY"
      },
      "outputs": [],
      "source": [
        "import pandas as pd"
      ]
    },
    {
      "cell_type": "markdown",
      "source": [
        "#**Arithmetic Operations on Series**"
      ],
      "metadata": {
        "id": "h8Sc35S7HLfa"
      }
    },
    {
      "cell_type": "code",
      "source": [
        "# Sample Series\n",
        "sales = pd.Series([100, 200, 300, 400, 500])\n"
      ],
      "metadata": {
        "id": "76TPhF6bHQRB"
      },
      "execution_count": 4,
      "outputs": []
    },
    {
      "cell_type": "code",
      "source": [
        "# Addition\n",
        "print(sales + 10)\n"
      ],
      "metadata": {
        "colab": {
          "base_uri": "https://localhost:8080/"
        },
        "id": "3OFPpDs7HUn1",
        "outputId": "62a75e3f-38bc-4732-e00c-a7d36edc7a72"
      },
      "execution_count": 5,
      "outputs": [
        {
          "output_type": "stream",
          "name": "stdout",
          "text": [
            "0    110\n",
            "1    210\n",
            "2    310\n",
            "3    410\n",
            "4    510\n",
            "dtype: int64\n"
          ]
        }
      ]
    },
    {
      "cell_type": "code",
      "source": [
        "# Subtraction\n",
        "print(sales - 10)\n",
        "\n",
        "# Multiplication\n",
        "print(sales * 2)\n",
        "\n",
        "# Division\n",
        "print(sales / 2)\n",
        "\n",
        "# Power\n",
        "print(sales ** 2)\n"
      ],
      "metadata": {
        "colab": {
          "base_uri": "https://localhost:8080/"
        },
        "id": "T1mntNV3Hed-",
        "outputId": "56934680-cc25-4ecd-9e85-192e1936a4ae"
      },
      "execution_count": 6,
      "outputs": [
        {
          "output_type": "stream",
          "name": "stdout",
          "text": [
            "0     90\n",
            "1    190\n",
            "2    290\n",
            "3    390\n",
            "4    490\n",
            "dtype: int64\n",
            "0     200\n",
            "1     400\n",
            "2     600\n",
            "3     800\n",
            "4    1000\n",
            "dtype: int64\n",
            "0     50.0\n",
            "1    100.0\n",
            "2    150.0\n",
            "3    200.0\n",
            "4    250.0\n",
            "dtype: float64\n",
            "0     10000\n",
            "1     40000\n",
            "2     90000\n",
            "3    160000\n",
            "4    250000\n",
            "dtype: int64\n"
          ]
        }
      ]
    },
    {
      "cell_type": "code",
      "source": [],
      "metadata": {
        "id": "a0GqFmGLHkY1"
      },
      "execution_count": null,
      "outputs": []
    }
  ]
}