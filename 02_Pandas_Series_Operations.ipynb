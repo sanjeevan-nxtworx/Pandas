{
  "nbformat": 4,
  "nbformat_minor": 0,
  "metadata": {
    "colab": {
      "provenance": [],
      "authorship_tag": "ABX9TyN2KgpAoIB+yWDeVWyPdAR7",
      "include_colab_link": true
    },
    "kernelspec": {
      "name": "python3",
      "display_name": "Python 3"
    },
    "language_info": {
      "name": "python"
    }
  },
  "cells": [
    {
      "cell_type": "markdown",
      "metadata": {
        "id": "view-in-github",
        "colab_type": "text"
      },
      "source": [
        "<a href=\"https://colab.research.google.com/github/sanjeevan-nxtworx/Pandas/blob/main/02_Pandas_Series_Operations.ipynb\" target=\"_parent\"><img src=\"https://colab.research.google.com/assets/colab-badge.svg\" alt=\"Open In Colab\"/></a>"
      ]
    },
    {
      "cell_type": "code",
      "execution_count": 3,
      "metadata": {
        "id": "VPMU8_7xG-mY"
      },
      "outputs": [],
      "source": [
        "import pandas as pd"
      ]
    },
    {
      "cell_type": "markdown",
      "source": [
        "#**Arithmetic Operations on Series**"
      ],
      "metadata": {
        "id": "h8Sc35S7HLfa"
      }
    },
    {
      "cell_type": "code",
      "source": [
        "# Sample Series\n",
        "sales = pd.Series([100, 200, 300, 400, 500])\n"
      ],
      "metadata": {
        "id": "76TPhF6bHQRB"
      },
      "execution_count": 4,
      "outputs": []
    },
    {
      "cell_type": "code",
      "source": [
        "# Addition\n",
        "print(sales + 10)\n"
      ],
      "metadata": {
        "colab": {
          "base_uri": "https://localhost:8080/"
        },
        "id": "3OFPpDs7HUn1",
        "outputId": "62a75e3f-38bc-4732-e00c-a7d36edc7a72"
      },
      "execution_count": 5,
      "outputs": [
        {
          "output_type": "stream",
          "name": "stdout",
          "text": [
            "0    110\n",
            "1    210\n",
            "2    310\n",
            "3    410\n",
            "4    510\n",
            "dtype: int64\n"
          ]
        }
      ]
    },
    {
      "cell_type": "code",
      "source": [
        "# Subtraction\n",
        "print(sales - 10)\n",
        "\n",
        "# Multiplication\n",
        "print(sales * 2)\n",
        "\n",
        "# Division\n",
        "print(sales / 2)\n",
        "\n",
        "# Power\n",
        "print(sales ** 2)\n"
      ],
      "metadata": {
        "colab": {
          "base_uri": "https://localhost:8080/"
        },
        "id": "T1mntNV3Hed-",
        "outputId": "56934680-cc25-4ecd-9e85-192e1936a4ae"
      },
      "execution_count": 6,
      "outputs": [
        {
          "output_type": "stream",
          "name": "stdout",
          "text": [
            "0     90\n",
            "1    190\n",
            "2    290\n",
            "3    390\n",
            "4    490\n",
            "dtype: int64\n",
            "0     200\n",
            "1     400\n",
            "2     600\n",
            "3     800\n",
            "4    1000\n",
            "dtype: int64\n",
            "0     50.0\n",
            "1    100.0\n",
            "2    150.0\n",
            "3    200.0\n",
            "4    250.0\n",
            "dtype: float64\n",
            "0     10000\n",
            "1     40000\n",
            "2     90000\n",
            "3    160000\n",
            "4    250000\n",
            "dtype: int64\n"
          ]
        }
      ]
    },
    {
      "cell_type": "markdown",
      "source": [
        "#Statistical Operations"
      ],
      "metadata": {
        "id": "kLYxhisGH60n"
      }
    },
    {
      "cell_type": "code",
      "source": [
        "#Pandas provides built-in methods to compute statistics.\n",
        "print(\"Sum:\", sales.sum())      # Total sum\n",
        "print(\"Mean:\", sales.mean())    # Average\n",
        "print(\"Median:\", sales.median()) # Median\n",
        "print(\"Min:\", sales.min())      # Minimum value\n",
        "print(\"Max:\", sales.max())      # Maximum value\n",
        "print(\"Standard Deviation:\", sales.std())  # Standard deviation\n",
        "print(\"Variance:\", sales.var()) # Variance\n",
        "print(\"Count:\", sales.count())  # Non-null count\n"
      ],
      "metadata": {
        "colab": {
          "base_uri": "https://localhost:8080/"
        },
        "id": "a0GqFmGLHkY1",
        "outputId": "64e15eef-2bf5-4e96-bda4-cb3dc05556d1"
      },
      "execution_count": 7,
      "outputs": [
        {
          "output_type": "stream",
          "name": "stdout",
          "text": [
            "Sum: 1500\n",
            "Mean: 300.0\n",
            "Median: 300.0\n",
            "Min: 100\n",
            "Max: 500\n",
            "Standard Deviation: 158.11388300841898\n",
            "Variance: 25000.0\n",
            "Count: 5\n"
          ]
        }
      ]
    },
    {
      "cell_type": "markdown",
      "source": [
        "#**Logical & Comparison Operations**"
      ],
      "metadata": {
        "id": "nKZlSVYKIOwL"
      }
    },
    {
      "cell_type": "code",
      "source": [
        "print(sales > 250)    # Returns boolean values"
      ],
      "metadata": {
        "colab": {
          "base_uri": "https://localhost:8080/"
        },
        "id": "h9o79dEnIB8l",
        "outputId": "a979054d-203b-4f80-f9e7-302bf7e62b21"
      },
      "execution_count": 8,
      "outputs": [
        {
          "output_type": "stream",
          "name": "stdout",
          "text": [
            "0    False\n",
            "1    False\n",
            "2     True\n",
            "3     True\n",
            "4     True\n",
            "dtype: bool\n"
          ]
        }
      ]
    },
    {
      "cell_type": "code",
      "source": [
        "print(sales == 300)   # Checks equality\n",
        "print(sales < 200)    # Less than"
      ],
      "metadata": {
        "colab": {
          "base_uri": "https://localhost:8080/"
        },
        "id": "myCtMG2oIYZq",
        "outputId": "500dc5fd-d8ed-44e8-c5da-f506536cc685"
      },
      "execution_count": 9,
      "outputs": [
        {
          "output_type": "stream",
          "name": "stdout",
          "text": [
            "0    False\n",
            "1    False\n",
            "2     True\n",
            "3    False\n",
            "4    False\n",
            "dtype: bool\n",
            "0     True\n",
            "1    False\n",
            "2    False\n",
            "3    False\n",
            "4    False\n",
            "dtype: bool\n"
          ]
        }
      ]
    },
    {
      "cell_type": "markdown",
      "source": [
        "###**Filtering Elements**\n"
      ],
      "metadata": {
        "id": "NGZeUjOQIvLO"
      }
    },
    {
      "cell_type": "code",
      "source": [
        "#You can filter elements based on conditions.\n",
        "# Get values greater than 250\n",
        "filtered_series = sales[sales > 250]\n",
        "print(filtered_series)\n"
      ],
      "metadata": {
        "colab": {
          "base_uri": "https://localhost:8080/"
        },
        "id": "Hn1ph2b0IjBu",
        "outputId": "18ee8e6e-c7bf-443f-ab4d-7635ce6a72b9"
      },
      "execution_count": 10,
      "outputs": [
        {
          "output_type": "stream",
          "name": "stdout",
          "text": [
            "2    300\n",
            "3    400\n",
            "4    500\n",
            "dtype: int64\n"
          ]
        }
      ]
    },
    {
      "cell_type": "markdown",
      "source": [
        "###**Indexing and Slicing**"
      ],
      "metadata": {
        "id": "16aQhjmuI_8_"
      }
    },
    {
      "cell_type": "code",
      "source": [
        "print(sales[0])     # Access first element\n",
        "print(sales[:3])    # First three elements\n",
        "print(sales[-2:])   # Last two elements\n"
      ],
      "metadata": {
        "colab": {
          "base_uri": "https://localhost:8080/"
        },
        "id": "mQlRFHNOI2p3",
        "outputId": "bfff99d8-f159-4696-c5fc-45fa82a7887f"
      },
      "execution_count": 11,
      "outputs": [
        {
          "output_type": "stream",
          "name": "stdout",
          "text": [
            "100\n",
            "0    100\n",
            "1    200\n",
            "2    300\n",
            "dtype: int64\n",
            "3    400\n",
            "4    500\n",
            "dtype: int64\n"
          ]
        }
      ]
    },
    {
      "cell_type": "markdown",
      "source": [
        "###**Sorting a Series**"
      ],
      "metadata": {
        "id": "oEMHVIiRJUmH"
      }
    },
    {
      "cell_type": "code",
      "source": [
        "# Sorting values in ascending order\n",
        "print(sales.sort_values())\n",
        "\n",
        "# Sorting values in descending order\n",
        "print(sales.sort_values(ascending=False))\n"
      ],
      "metadata": {
        "colab": {
          "base_uri": "https://localhost:8080/"
        },
        "id": "fS6cTAZJJHdU",
        "outputId": "454175cc-3ee8-4844-df4f-65c6a59c341b"
      },
      "execution_count": 12,
      "outputs": [
        {
          "output_type": "stream",
          "name": "stdout",
          "text": [
            "0    100\n",
            "1    200\n",
            "2    300\n",
            "3    400\n",
            "4    500\n",
            "dtype: int64\n",
            "4    500\n",
            "3    400\n",
            "2    300\n",
            "1    200\n",
            "0    100\n",
            "dtype: int64\n"
          ]
        }
      ]
    },
    {
      "cell_type": "markdown",
      "source": [
        "###**Handling Missing Values**"
      ],
      "metadata": {
        "id": "5ZCRpzHbJuOc"
      }
    },
    {
      "cell_type": "code",
      "source": [
        "sales_with_nan = pd.Series([100, 200, None, 400, 500])"
      ],
      "metadata": {
        "id": "muh6sV7sJaMh"
      },
      "execution_count": 13,
      "outputs": []
    },
    {
      "cell_type": "code",
      "source": [
        "# Check for NaN values\n",
        "print(sales_with_nan.isna())\n"
      ],
      "metadata": {
        "colab": {
          "base_uri": "https://localhost:8080/"
        },
        "id": "Q10dkJ2gJ5kW",
        "outputId": "6f103eb6-26bf-44e2-c9da-ac6344fd362a"
      },
      "execution_count": 14,
      "outputs": [
        {
          "output_type": "stream",
          "name": "stdout",
          "text": [
            "0    False\n",
            "1    False\n",
            "2     True\n",
            "3    False\n",
            "4    False\n",
            "dtype: bool\n"
          ]
        }
      ]
    },
    {
      "cell_type": "code",
      "source": [
        "# Fill NaN values with a default value\n",
        "print(sales_with_nan.fillna(0))\n"
      ],
      "metadata": {
        "colab": {
          "base_uri": "https://localhost:8080/"
        },
        "id": "xQbI4ql6J7cL",
        "outputId": "160ac1f8-7eff-4e9c-c1f2-f772483e3e80"
      },
      "execution_count": 15,
      "outputs": [
        {
          "output_type": "stream",
          "name": "stdout",
          "text": [
            "0    100.0\n",
            "1    200.0\n",
            "2      0.0\n",
            "3    400.0\n",
            "4    500.0\n",
            "dtype: float64\n"
          ]
        }
      ]
    },
    {
      "cell_type": "code",
      "source": [
        "# Drop NaN values\n",
        "print(sales_with_nan.dropna())\n"
      ],
      "metadata": {
        "colab": {
          "base_uri": "https://localhost:8080/"
        },
        "id": "X1w7Qb2rJ_MN",
        "outputId": "2e8f063c-142a-4b09-bf0a-4b4a3b4dfde1"
      },
      "execution_count": 16,
      "outputs": [
        {
          "output_type": "stream",
          "name": "stdout",
          "text": [
            "0    100.0\n",
            "1    200.0\n",
            "3    400.0\n",
            "4    500.0\n",
            "dtype: float64\n"
          ]
        }
      ]
    },
    {
      "cell_type": "markdown",
      "source": [
        "###**Unique Values and Value Counts**"
      ],
      "metadata": {
        "id": "9G-BCtGlKKl9"
      }
    },
    {
      "cell_type": "code",
      "source": [
        "sales_dup = pd.Series([100, 200, 100, 300, 200, 400])"
      ],
      "metadata": {
        "id": "nD-HUbi7KEXm"
      },
      "execution_count": 17,
      "outputs": []
    },
    {
      "cell_type": "code",
      "source": [
        "print(\"Unique Values:\", sales_dup.unique()) # Get unique values"
      ],
      "metadata": {
        "colab": {
          "base_uri": "https://localhost:8080/"
        },
        "id": "NXhIp_siKS1p",
        "outputId": "5c66c43d-f03f-4199-826e-c098c5c66ca4"
      },
      "execution_count": 18,
      "outputs": [
        {
          "output_type": "stream",
          "name": "stdout",
          "text": [
            "Unique Values: [100 200 300 400]\n"
          ]
        }
      ]
    },
    {
      "cell_type": "code",
      "source": [
        "print(\"Value Counts:\\n\", sales_dup.value_counts()) # Frequency count"
      ],
      "metadata": {
        "colab": {
          "base_uri": "https://localhost:8080/"
        },
        "id": "SsaK06U6KVnz",
        "outputId": "f464fa34-083b-4e26-e21d-a3b591adff38"
      },
      "execution_count": 19,
      "outputs": [
        {
          "output_type": "stream",
          "name": "stdout",
          "text": [
            "Value Counts:\n",
            " 100    2\n",
            "200    2\n",
            "300    1\n",
            "400    1\n",
            "Name: count, dtype: int64\n"
          ]
        }
      ]
    },
    {
      "cell_type": "markdown",
      "source": [
        "###**Applying Functions**"
      ],
      "metadata": {
        "id": "_8i9hDXuKkQC"
      }
    },
    {
      "cell_type": "code",
      "source": [
        "# Apply a custom function\n",
        "print(sales.apply(lambda x: x * 1.1))  # Increase by 10%\n"
      ],
      "metadata": {
        "colab": {
          "base_uri": "https://localhost:8080/"
        },
        "id": "TlpnwDnLKYbk",
        "outputId": "36ef8c1b-7e41-4bd1-b313-d5a388b70987"
      },
      "execution_count": 20,
      "outputs": [
        {
          "output_type": "stream",
          "name": "stdout",
          "text": [
            "0    110.0\n",
            "1    220.0\n",
            "2    330.0\n",
            "3    440.0\n",
            "4    550.0\n",
            "dtype: float64\n"
          ]
        }
      ]
    },
    {
      "cell_type": "markdown",
      "source": [
        "###**String Operations (for text data)**\n"
      ],
      "metadata": {
        "id": "X4qHY6t2KyMu"
      }
    },
    {
      "cell_type": "code",
      "source": [
        "names = pd.Series([\"Alice\", \"Bob\", \"Charlie\", \"David\"])\n",
        "\n",
        "print(names.str.lower())   # Convert to lowercase\n",
        "print(names.str.upper())   # Convert to uppercase\n",
        "print(names.str.contains(\"o\"))  # Check if contains 'o'\n"
      ],
      "metadata": {
        "colab": {
          "base_uri": "https://localhost:8080/"
        },
        "id": "PwPLNdo8Kr70",
        "outputId": "3dbf6af2-4791-4bf6-d34f-b7dbfd0b9e94"
      },
      "execution_count": 21,
      "outputs": [
        {
          "output_type": "stream",
          "name": "stdout",
          "text": [
            "0      alice\n",
            "1        bob\n",
            "2    charlie\n",
            "3      david\n",
            "dtype: object\n",
            "0      ALICE\n",
            "1        BOB\n",
            "2    CHARLIE\n",
            "3      DAVID\n",
            "dtype: object\n",
            "0    False\n",
            "1     True\n",
            "2    False\n",
            "3    False\n",
            "dtype: bool\n"
          ]
        }
      ]
    },
    {
      "cell_type": "markdown",
      "source": [
        "###**Combining Two Series**"
      ],
      "metadata": {
        "id": "wUX0WFQrLCJl"
      }
    },
    {
      "cell_type": "code",
      "source": [
        "sales1 = pd.Series([100, 200, 300])\n",
        "sales2 = pd.Series([400, 500, 600])\n",
        "\n",
        "combined = sales1 + sales2  # Adds element-wise\n",
        "print(combined)\n"
      ],
      "metadata": {
        "colab": {
          "base_uri": "https://localhost:8080/"
        },
        "id": "FWKDQuZOK4q8",
        "outputId": "6eec7b5c-fa2b-4138-ba67-69007cc0f4ce"
      },
      "execution_count": 22,
      "outputs": [
        {
          "output_type": "stream",
          "name": "stdout",
          "text": [
            "0    500\n",
            "1    700\n",
            "2    900\n",
            "dtype: int64\n"
          ]
        }
      ]
    },
    {
      "cell_type": "markdown",
      "source": [
        "###**Cumulative Operations**"
      ],
      "metadata": {
        "id": "dDHZmjTyLOTH"
      }
    },
    {
      "cell_type": "code",
      "source": [
        "print(sales.cumsum())  # Cumulative sum\n",
        "print(sales.cumprod()) # Cumulative product\n"
      ],
      "metadata": {
        "colab": {
          "base_uri": "https://localhost:8080/"
        },
        "id": "1DL03ahGLHzg",
        "outputId": "f79fca5c-19c6-478a-ec69-9713efee43f8"
      },
      "execution_count": 23,
      "outputs": [
        {
          "output_type": "stream",
          "name": "stdout",
          "text": [
            "0     100\n",
            "1     300\n",
            "2     600\n",
            "3    1000\n",
            "4    1500\n",
            "dtype: int64\n",
            "0              100\n",
            "1            20000\n",
            "2          6000000\n",
            "3       2400000000\n",
            "4    1200000000000\n",
            "dtype: int64\n"
          ]
        }
      ]
    },
    {
      "cell_type": "code",
      "source": [],
      "metadata": {
        "id": "97Bgd-MwLVUQ"
      },
      "execution_count": null,
      "outputs": []
    }
  ]
}